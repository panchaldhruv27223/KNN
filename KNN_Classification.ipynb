{
 "cells": [
  {
   "cell_type": "code",
   "execution_count": 2,
   "id": "993c5614",
   "metadata": {},
   "outputs": [],
   "source": [
    "import pandas as pd\n",
    "import numpy as np\n",
    "import seaborn as sns "
   ]
  },
  {
   "cell_type": "code",
   "execution_count": 3,
   "id": "21db59a6",
   "metadata": {},
   "outputs": [],
   "source": [
    "from sklearn.datasets import make_classification"
   ]
  },
  {
   "cell_type": "code",
   "execution_count": 4,
   "id": "48353c8d",
   "metadata": {},
   "outputs": [
    {
     "data": {
      "text/plain": [
       "((1000, 3), (1000,))"
      ]
     },
     "execution_count": 4,
     "metadata": {},
     "output_type": "execute_result"
    }
   ],
   "source": [
    "X,y = make_classification(n_features=3,n_samples=1000,n_redundant=1,n_classes=2,random_state=99)\n",
    "X.shape,y.shape"
   ]
  },
  {
   "cell_type": "code",
   "execution_count": 5,
   "id": "d35b0ca3",
   "metadata": {},
   "outputs": [],
   "source": [
    "from sklearn.model_selection import train_test_split\n",
    "X_train,X_test,y_train,y_test = train_test_split(X,y,test_size=0.20,random_state=42)"
   ]
  },
  {
   "cell_type": "code",
   "execution_count": 6,
   "id": "85ef4f1a",
   "metadata": {},
   "outputs": [
    {
     "data": {
      "text/plain": [
       "((800, 3), (200, 3), (800,), (200,))"
      ]
     },
     "execution_count": 6,
     "metadata": {},
     "output_type": "execute_result"
    }
   ],
   "source": [
    "X_train.shape, X_test.shape, y_train.shape, y_test.shape"
   ]
  },
  {
   "cell_type": "code",
   "execution_count": 8,
   "id": "07e84f6a",
   "metadata": {},
   "outputs": [],
   "source": [
    "from sklearn.neighbors import KNeighborsClassifier"
   ]
  },
  {
   "cell_type": "code",
   "execution_count": 9,
   "id": "1bba6cc7",
   "metadata": {},
   "outputs": [],
   "source": [
    "classifier = KNeighborsClassifier(n_neighbors=5,algorithm=\"auto\")"
   ]
  },
  {
   "cell_type": "code",
   "execution_count": 10,
   "id": "1e40aedd",
   "metadata": {},
   "outputs": [
    {
     "data": {
      "text/html": [
       "<style>#sk-container-id-1 {color: black;background-color: white;}#sk-container-id-1 pre{padding: 0;}#sk-container-id-1 div.sk-toggleable {background-color: white;}#sk-container-id-1 label.sk-toggleable__label {cursor: pointer;display: block;width: 100%;margin-bottom: 0;padding: 0.3em;box-sizing: border-box;text-align: center;}#sk-container-id-1 label.sk-toggleable__label-arrow:before {content: \"▸\";float: left;margin-right: 0.25em;color: #696969;}#sk-container-id-1 label.sk-toggleable__label-arrow:hover:before {color: black;}#sk-container-id-1 div.sk-estimator:hover label.sk-toggleable__label-arrow:before {color: black;}#sk-container-id-1 div.sk-toggleable__content {max-height: 0;max-width: 0;overflow: hidden;text-align: left;background-color: #f0f8ff;}#sk-container-id-1 div.sk-toggleable__content pre {margin: 0.2em;color: black;border-radius: 0.25em;background-color: #f0f8ff;}#sk-container-id-1 input.sk-toggleable__control:checked~div.sk-toggleable__content {max-height: 200px;max-width: 100%;overflow: auto;}#sk-container-id-1 input.sk-toggleable__control:checked~label.sk-toggleable__label-arrow:before {content: \"▾\";}#sk-container-id-1 div.sk-estimator input.sk-toggleable__control:checked~label.sk-toggleable__label {background-color: #d4ebff;}#sk-container-id-1 div.sk-label input.sk-toggleable__control:checked~label.sk-toggleable__label {background-color: #d4ebff;}#sk-container-id-1 input.sk-hidden--visually {border: 0;clip: rect(1px 1px 1px 1px);clip: rect(1px, 1px, 1px, 1px);height: 1px;margin: -1px;overflow: hidden;padding: 0;position: absolute;width: 1px;}#sk-container-id-1 div.sk-estimator {font-family: monospace;background-color: #f0f8ff;border: 1px dotted black;border-radius: 0.25em;box-sizing: border-box;margin-bottom: 0.5em;}#sk-container-id-1 div.sk-estimator:hover {background-color: #d4ebff;}#sk-container-id-1 div.sk-parallel-item::after {content: \"\";width: 100%;border-bottom: 1px solid gray;flex-grow: 1;}#sk-container-id-1 div.sk-label:hover label.sk-toggleable__label {background-color: #d4ebff;}#sk-container-id-1 div.sk-serial::before {content: \"\";position: absolute;border-left: 1px solid gray;box-sizing: border-box;top: 0;bottom: 0;left: 50%;z-index: 0;}#sk-container-id-1 div.sk-serial {display: flex;flex-direction: column;align-items: center;background-color: white;padding-right: 0.2em;padding-left: 0.2em;position: relative;}#sk-container-id-1 div.sk-item {position: relative;z-index: 1;}#sk-container-id-1 div.sk-parallel {display: flex;align-items: stretch;justify-content: center;background-color: white;position: relative;}#sk-container-id-1 div.sk-item::before, #sk-container-id-1 div.sk-parallel-item::before {content: \"\";position: absolute;border-left: 1px solid gray;box-sizing: border-box;top: 0;bottom: 0;left: 50%;z-index: -1;}#sk-container-id-1 div.sk-parallel-item {display: flex;flex-direction: column;z-index: 1;position: relative;background-color: white;}#sk-container-id-1 div.sk-parallel-item:first-child::after {align-self: flex-end;width: 50%;}#sk-container-id-1 div.sk-parallel-item:last-child::after {align-self: flex-start;width: 50%;}#sk-container-id-1 div.sk-parallel-item:only-child::after {width: 0;}#sk-container-id-1 div.sk-dashed-wrapped {border: 1px dashed gray;margin: 0 0.4em 0.5em 0.4em;box-sizing: border-box;padding-bottom: 0.4em;background-color: white;}#sk-container-id-1 div.sk-label label {font-family: monospace;font-weight: bold;display: inline-block;line-height: 1.2em;}#sk-container-id-1 div.sk-label-container {text-align: center;}#sk-container-id-1 div.sk-container {/* jupyter's `normalize.less` sets `[hidden] { display: none; }` but bootstrap.min.css set `[hidden] { display: none !important; }` so we also need the `!important` here to be able to override the default hidden behavior on the sphinx rendered scikit-learn.org. See: https://github.com/scikit-learn/scikit-learn/issues/21755 */display: inline-block !important;position: relative;}#sk-container-id-1 div.sk-text-repr-fallback {display: none;}</style><div id=\"sk-container-id-1\" class=\"sk-top-container\"><div class=\"sk-text-repr-fallback\"><pre>KNeighborsClassifier()</pre><b>In a Jupyter environment, please rerun this cell to show the HTML representation or trust the notebook. <br />On GitHub, the HTML representation is unable to render, please try loading this page with nbviewer.org.</b></div><div class=\"sk-container\" hidden><div class=\"sk-item\"><div class=\"sk-estimator sk-toggleable\"><input class=\"sk-toggleable__control sk-hidden--visually\" id=\"sk-estimator-id-1\" type=\"checkbox\" checked><label for=\"sk-estimator-id-1\" class=\"sk-toggleable__label sk-toggleable__label-arrow\">KNeighborsClassifier</label><div class=\"sk-toggleable__content\"><pre>KNeighborsClassifier()</pre></div></div></div></div></div>"
      ],
      "text/plain": [
       "KNeighborsClassifier()"
      ]
     },
     "execution_count": 10,
     "metadata": {},
     "output_type": "execute_result"
    }
   ],
   "source": [
    "classifier.fit(X_train,y_train)"
   ]
  },
  {
   "cell_type": "code",
   "execution_count": 13,
   "id": "41bf131b",
   "metadata": {},
   "outputs": [],
   "source": [
    "y_predict = classifier.predict(X_test)"
   ]
  },
  {
   "cell_type": "code",
   "execution_count": 39,
   "id": "dbd256a7",
   "metadata": {},
   "outputs": [],
   "source": [
    "from sklearn.metrics import accuracy_score, classification_report, confusion_matrix"
   ]
  },
  {
   "cell_type": "code",
   "execution_count": 16,
   "id": "1f970947",
   "metadata": {},
   "outputs": [
    {
     "name": "stdout",
     "output_type": "stream",
     "text": [
      "accuracy score is : 0.945\n",
      "classification report is :               precision    recall  f1-score   support\n",
      "\n",
      "           0       0.95      0.95      0.95       109\n",
      "           1       0.94      0.93      0.94        91\n",
      "\n",
      "    accuracy                           0.94       200\n",
      "   macro avg       0.94      0.94      0.94       200\n",
      "weighted avg       0.94      0.94      0.94       200\n",
      "\n",
      "confusion matrix is : [[104   5]\n",
      " [  6  85]]\n"
     ]
    }
   ],
   "source": [
    "print(\"accuracy score is :\", accuracy_score(y_test,y_predict))\n",
    "print(\"classification report is :\", classification_report(y_test,y_predict))\n",
    "print(\"confusion matrix is :\", confusion_matrix(y_test,y_predict))"
   ]
  },
  {
   "cell_type": "code",
   "execution_count": 17,
   "id": "c1ab26b8",
   "metadata": {},
   "outputs": [],
   "source": [
    "## we want to change value of k"
   ]
  },
  {
   "cell_type": "code",
   "execution_count": 20,
   "id": "12c6b7ba",
   "metadata": {},
   "outputs": [],
   "source": [
    "def cheack_value_k(X_train, X_test, y_train, y_test):\n",
    "    accuracy = 0\n",
    "    k = 0 \n",
    "    for i in range(1,11):\n",
    "        classifier = KNeighborsClassifier(n_neighbors=i, algorithm=\"auto\")\n",
    "        classifier.fit(X_train,y_train)\n",
    "        y_pre = classifier.predict(X_test)\n",
    "        new_accuracy = accuracy_score(y_pre,y_test)\n",
    "        if new_accuracy > accuracy:\n",
    "            accuracy = new_accuracy\n",
    "            k = i\n",
    "    return k, accuracy"
   ]
  },
  {
   "cell_type": "code",
   "execution_count": 21,
   "id": "7583690e",
   "metadata": {},
   "outputs": [],
   "source": [
    "k, acc = cheack_value_k(X_train,X_test,y_train,y_test)"
   ]
  },
  {
   "cell_type": "code",
   "execution_count": 23,
   "id": "113fd1a5",
   "metadata": {},
   "outputs": [
    {
     "data": {
      "text/plain": [
       "(6, 0.955)"
      ]
     },
     "execution_count": 23,
     "metadata": {},
     "output_type": "execute_result"
    }
   ],
   "source": [
    "k, acc"
   ]
  },
  {
   "cell_type": "code",
   "execution_count": 24,
   "id": "56a1690a",
   "metadata": {},
   "outputs": [],
   "source": [
    "## we can also use grid_search_cv "
   ]
  },
  {
   "cell_type": "code",
   "execution_count": 25,
   "id": "17509859",
   "metadata": {},
   "outputs": [],
   "source": [
    "##"
   ]
  },
  {
   "cell_type": "code",
   "execution_count": 26,
   "id": "3dfb066b",
   "metadata": {},
   "outputs": [],
   "source": [
    "from sklearn.model_selection import GridSearchCV"
   ]
  },
  {
   "cell_type": "code",
   "execution_count": 32,
   "id": "80a7b843",
   "metadata": {},
   "outputs": [],
   "source": [
    "params = {\n",
    "   \"n_neighbors\" : [1,2,3,4,5,6,7,8,9,10],\n",
    "    \"p\" : [1,2],\n",
    "    \"weights\" : [\"uniform\", \"distance\"] \n",
    "}"
   ]
  },
  {
   "cell_type": "code",
   "execution_count": 33,
   "id": "9d9c7915",
   "metadata": {},
   "outputs": [],
   "source": [
    "grid = GridSearchCV(KNeighborsClassifier(), param_grid= params , cv=4,scoring=\"accuracy\",verbose=3)"
   ]
  },
  {
   "cell_type": "code",
   "execution_count": 34,
   "id": "e69bff7c",
   "metadata": {},
   "outputs": [
    {
     "name": "stdout",
     "output_type": "stream",
     "text": [
      "Fitting 4 folds for each of 40 candidates, totalling 160 fits\n",
      "[CV 1/4] END n_neighbors=1, p=1, weights=uniform;, score=0.940 total time=   0.0s\n",
      "[CV 2/4] END n_neighbors=1, p=1, weights=uniform;, score=0.955 total time=   0.0s\n",
      "[CV 3/4] END n_neighbors=1, p=1, weights=uniform;, score=0.985 total time=   0.0s\n",
      "[CV 4/4] END n_neighbors=1, p=1, weights=uniform;, score=0.980 total time=   0.0s\n",
      "[CV 1/4] END n_neighbors=1, p=1, weights=distance;, score=0.940 total time=   0.0s\n",
      "[CV 2/4] END n_neighbors=1, p=1, weights=distance;, score=0.955 total time=   0.0s\n",
      "[CV 3/4] END n_neighbors=1, p=1, weights=distance;, score=0.985 total time=   0.0s\n",
      "[CV 4/4] END n_neighbors=1, p=1, weights=distance;, score=0.980 total time=   0.0s\n",
      "[CV 1/4] END n_neighbors=1, p=2, weights=uniform;, score=0.945 total time=   0.0s\n",
      "[CV 2/4] END n_neighbors=1, p=2, weights=uniform;, score=0.955 total time=   0.0s\n",
      "[CV 3/4] END n_neighbors=1, p=2, weights=uniform;, score=0.985 total time=   0.0s\n",
      "[CV 4/4] END n_neighbors=1, p=2, weights=uniform;, score=0.980 total time=   0.0s\n",
      "[CV 1/4] END n_neighbors=1, p=2, weights=distance;, score=0.945 total time=   0.0s\n",
      "[CV 2/4] END n_neighbors=1, p=2, weights=distance;, score=0.955 total time=   0.0s\n",
      "[CV 3/4] END n_neighbors=1, p=2, weights=distance;, score=0.985 total time=   0.0s\n",
      "[CV 4/4] END n_neighbors=1, p=2, weights=distance;, score=0.980 total time=   0.0s\n",
      "[CV 1/4] END n_neighbors=2, p=1, weights=uniform;, score=0.955 total time=   0.0s\n",
      "[CV 2/4] END n_neighbors=2, p=1, weights=uniform;, score=0.960 total time=   0.0s\n",
      "[CV 3/4] END n_neighbors=2, p=1, weights=uniform;, score=0.975 total time=   0.0s\n",
      "[CV 4/4] END n_neighbors=2, p=1, weights=uniform;, score=0.995 total time=   0.0s\n",
      "[CV 1/4] END n_neighbors=2, p=1, weights=distance;, score=0.940 total time=   0.0s\n",
      "[CV 2/4] END n_neighbors=2, p=1, weights=distance;, score=0.955 total time=   0.0s\n",
      "[CV 3/4] END n_neighbors=2, p=1, weights=distance;, score=0.985 total time=   0.0s\n",
      "[CV 4/4] END n_neighbors=2, p=1, weights=distance;, score=0.980 total time=   0.0s\n",
      "[CV 1/4] END n_neighbors=2, p=2, weights=uniform;, score=0.955 total time=   0.0s\n",
      "[CV 2/4] END n_neighbors=2, p=2, weights=uniform;, score=0.960 total time=   0.0s\n",
      "[CV 3/4] END n_neighbors=2, p=2, weights=uniform;, score=0.975 total time=   0.0s\n",
      "[CV 4/4] END n_neighbors=2, p=2, weights=uniform;, score=0.995 total time=   0.0s\n",
      "[CV 1/4] END n_neighbors=2, p=2, weights=distance;, score=0.945 total time=   0.0s\n",
      "[CV 2/4] END n_neighbors=2, p=2, weights=distance;, score=0.955 total time=   0.0s\n",
      "[CV 3/4] END n_neighbors=2, p=2, weights=distance;, score=0.985 total time=   0.0s\n",
      "[CV 4/4] END n_neighbors=2, p=2, weights=distance;, score=0.980 total time=   0.0s\n",
      "[CV 1/4] END n_neighbors=3, p=1, weights=uniform;, score=0.950 total time=   0.0s\n",
      "[CV 2/4] END n_neighbors=3, p=1, weights=uniform;, score=0.965 total time=   0.0s\n",
      "[CV 3/4] END n_neighbors=3, p=1, weights=uniform;, score=0.985 total time=   0.0s\n",
      "[CV 4/4] END n_neighbors=3, p=1, weights=uniform;, score=0.995 total time=   0.0s\n",
      "[CV 1/4] END n_neighbors=3, p=1, weights=distance;, score=0.950 total time=   0.0s\n",
      "[CV 2/4] END n_neighbors=3, p=1, weights=distance;, score=0.960 total time=   0.0s\n",
      "[CV 3/4] END n_neighbors=3, p=1, weights=distance;, score=0.985 total time=   0.0s\n",
      "[CV 4/4] END n_neighbors=3, p=1, weights=distance;, score=0.995 total time=   0.0s\n",
      "[CV 1/4] END n_neighbors=3, p=2, weights=uniform;, score=0.950 total time=   0.0s\n",
      "[CV 2/4] END n_neighbors=3, p=2, weights=uniform;, score=0.965 total time=   0.0s\n",
      "[CV 3/4] END n_neighbors=3, p=2, weights=uniform;, score=0.985 total time=   0.0s\n",
      "[CV 4/4] END n_neighbors=3, p=2, weights=uniform;, score=0.995 total time=   0.0s\n",
      "[CV 1/4] END n_neighbors=3, p=2, weights=distance;, score=0.950 total time=   0.0s\n",
      "[CV 2/4] END n_neighbors=3, p=2, weights=distance;, score=0.960 total time=   0.0s\n",
      "[CV 3/4] END n_neighbors=3, p=2, weights=distance;, score=0.985 total time=   0.0s\n",
      "[CV 4/4] END n_neighbors=3, p=2, weights=distance;, score=0.995 total time=   0.0s\n",
      "[CV 1/4] END n_neighbors=4, p=1, weights=uniform;, score=0.945 total time=   0.0s\n",
      "[CV 2/4] END n_neighbors=4, p=1, weights=uniform;, score=0.960 total time=   0.0s\n",
      "[CV 3/4] END n_neighbors=4, p=1, weights=uniform;, score=0.985 total time=   0.0s\n",
      "[CV 4/4] END n_neighbors=4, p=1, weights=uniform;, score=0.995 total time=   0.0s\n",
      "[CV 1/4] END n_neighbors=4, p=1, weights=distance;, score=0.950 total time=   0.0s\n",
      "[CV 2/4] END n_neighbors=4, p=1, weights=distance;, score=0.960 total time=   0.0s\n",
      "[CV 3/4] END n_neighbors=4, p=1, weights=distance;, score=0.985 total time=   0.0s\n",
      "[CV 4/4] END n_neighbors=4, p=1, weights=distance;, score=0.995 total time=   0.0s\n",
      "[CV 1/4] END n_neighbors=4, p=2, weights=uniform;, score=0.945 total time=   0.0s\n",
      "[CV 2/4] END n_neighbors=4, p=2, weights=uniform;, score=0.960 total time=   0.0s\n",
      "[CV 3/4] END n_neighbors=4, p=2, weights=uniform;, score=0.975 total time=   0.0s\n",
      "[CV 4/4] END n_neighbors=4, p=2, weights=uniform;, score=0.995 total time=   0.0s\n",
      "[CV 1/4] END n_neighbors=4, p=2, weights=distance;, score=0.950 total time=   0.0s\n",
      "[CV 2/4] END n_neighbors=4, p=2, weights=distance;, score=0.960 total time=   0.0s\n",
      "[CV 3/4] END n_neighbors=4, p=2, weights=distance;, score=0.985 total time=   0.0s\n",
      "[CV 4/4] END n_neighbors=4, p=2, weights=distance;, score=0.995 total time=   0.0s\n",
      "[CV 1/4] END n_neighbors=5, p=1, weights=uniform;, score=0.950 total time=   0.0s\n",
      "[CV 2/4] END n_neighbors=5, p=1, weights=uniform;, score=0.955 total time=   0.0s\n",
      "[CV 3/4] END n_neighbors=5, p=1, weights=uniform;, score=0.985 total time=   0.0s\n",
      "[CV 4/4] END n_neighbors=5, p=1, weights=uniform;, score=0.995 total time=   0.0s\n",
      "[CV 1/4] END n_neighbors=5, p=1, weights=distance;, score=0.950 total time=   0.0s\n",
      "[CV 2/4] END n_neighbors=5, p=1, weights=distance;, score=0.965 total time=   0.0s\n",
      "[CV 3/4] END n_neighbors=5, p=1, weights=distance;, score=0.985 total time=   0.0s\n",
      "[CV 4/4] END n_neighbors=5, p=1, weights=distance;, score=0.995 total time=   0.0s\n",
      "[CV 1/4] END n_neighbors=5, p=2, weights=uniform;, score=0.950 total time=   0.0s\n",
      "[CV 2/4] END n_neighbors=5, p=2, weights=uniform;, score=0.955 total time=   0.0s\n",
      "[CV 3/4] END n_neighbors=5, p=2, weights=uniform;, score=0.985 total time=   0.0s\n",
      "[CV 4/4] END n_neighbors=5, p=2, weights=uniform;, score=0.995 total time=   0.0s\n",
      "[CV 1/4] END n_neighbors=5, p=2, weights=distance;, score=0.950 total time=   0.0s\n",
      "[CV 2/4] END n_neighbors=5, p=2, weights=distance;, score=0.960 total time=   0.0s\n",
      "[CV 3/4] END n_neighbors=5, p=2, weights=distance;, score=0.985 total time=   0.0s\n",
      "[CV 4/4] END n_neighbors=5, p=2, weights=distance;, score=0.995 total time=   0.0s\n",
      "[CV 1/4] END n_neighbors=6, p=1, weights=uniform;, score=0.950 total time=   0.0s\n",
      "[CV 2/4] END n_neighbors=6, p=1, weights=uniform;, score=0.955 total time=   0.0s\n",
      "[CV 3/4] END n_neighbors=6, p=1, weights=uniform;, score=0.975 total time=   0.0s\n",
      "[CV 4/4] END n_neighbors=6, p=1, weights=uniform;, score=0.995 total time=   0.0s\n",
      "[CV 1/4] END n_neighbors=6, p=1, weights=distance;, score=0.955 total time=   0.0s\n",
      "[CV 2/4] END n_neighbors=6, p=1, weights=distance;, score=0.960 total time=   0.0s\n",
      "[CV 3/4] END n_neighbors=6, p=1, weights=distance;, score=0.985 total time=   0.0s\n",
      "[CV 4/4] END n_neighbors=6, p=1, weights=distance;, score=0.995 total time=   0.0s\n",
      "[CV 1/4] END n_neighbors=6, p=2, weights=uniform;, score=0.945 total time=   0.0s\n",
      "[CV 2/4] END n_neighbors=6, p=2, weights=uniform;, score=0.955 total time=   0.0s\n",
      "[CV 3/4] END n_neighbors=6, p=2, weights=uniform;, score=0.970 total time=   0.0s\n",
      "[CV 4/4] END n_neighbors=6, p=2, weights=uniform;, score=0.995 total time=   0.0s\n",
      "[CV 1/4] END n_neighbors=6, p=2, weights=distance;, score=0.955 total time=   0.0s\n",
      "[CV 2/4] END n_neighbors=6, p=2, weights=distance;, score=0.960 total time=   0.0s\n",
      "[CV 3/4] END n_neighbors=6, p=2, weights=distance;, score=0.985 total time=   0.0s\n",
      "[CV 4/4] END n_neighbors=6, p=2, weights=distance;, score=0.995 total time=   0.0s\n",
      "[CV 1/4] END n_neighbors=7, p=1, weights=uniform;, score=0.930 total time=   0.0s\n",
      "[CV 2/4] END n_neighbors=7, p=1, weights=uniform;, score=0.955 total time=   0.0s\n",
      "[CV 3/4] END n_neighbors=7, p=1, weights=uniform;, score=0.980 total time=   0.0s\n",
      "[CV 4/4] END n_neighbors=7, p=1, weights=uniform;, score=0.995 total time=   0.0s\n",
      "[CV 1/4] END n_neighbors=7, p=1, weights=distance;, score=0.945 total time=   0.0s\n",
      "[CV 2/4] END n_neighbors=7, p=1, weights=distance;, score=0.965 total time=   0.0s\n",
      "[CV 3/4] END n_neighbors=7, p=1, weights=distance;, score=0.985 total time=   0.0s\n",
      "[CV 4/4] END n_neighbors=7, p=1, weights=distance;, score=0.995 total time=   0.0s\n"
     ]
    },
    {
     "name": "stdout",
     "output_type": "stream",
     "text": [
      "[CV 1/4] END n_neighbors=7, p=2, weights=uniform;, score=0.935 total time=   0.0s\n",
      "[CV 2/4] END n_neighbors=7, p=2, weights=uniform;, score=0.955 total time=   0.0s\n",
      "[CV 3/4] END n_neighbors=7, p=2, weights=uniform;, score=0.975 total time=   0.0s\n",
      "[CV 4/4] END n_neighbors=7, p=2, weights=uniform;, score=0.995 total time=   0.0s\n",
      "[CV 1/4] END n_neighbors=7, p=2, weights=distance;, score=0.945 total time=   0.0s\n",
      "[CV 2/4] END n_neighbors=7, p=2, weights=distance;, score=0.965 total time=   0.0s\n",
      "[CV 3/4] END n_neighbors=7, p=2, weights=distance;, score=0.985 total time=   0.0s\n",
      "[CV 4/4] END n_neighbors=7, p=2, weights=distance;, score=0.995 total time=   0.0s\n",
      "[CV 1/4] END n_neighbors=8, p=1, weights=uniform;, score=0.940 total time=   0.0s\n",
      "[CV 2/4] END n_neighbors=8, p=1, weights=uniform;, score=0.955 total time=   0.0s\n",
      "[CV 3/4] END n_neighbors=8, p=1, weights=uniform;, score=0.975 total time=   0.0s\n",
      "[CV 4/4] END n_neighbors=8, p=1, weights=uniform;, score=0.990 total time=   0.0s\n",
      "[CV 1/4] END n_neighbors=8, p=1, weights=distance;, score=0.945 total time=   0.0s\n",
      "[CV 2/4] END n_neighbors=8, p=1, weights=distance;, score=0.965 total time=   0.0s\n",
      "[CV 3/4] END n_neighbors=8, p=1, weights=distance;, score=0.985 total time=   0.0s\n",
      "[CV 4/4] END n_neighbors=8, p=1, weights=distance;, score=0.995 total time=   0.0s\n",
      "[CV 1/4] END n_neighbors=8, p=2, weights=uniform;, score=0.940 total time=   0.0s\n",
      "[CV 2/4] END n_neighbors=8, p=2, weights=uniform;, score=0.950 total time=   0.0s\n",
      "[CV 3/4] END n_neighbors=8, p=2, weights=uniform;, score=0.970 total time=   0.0s\n",
      "[CV 4/4] END n_neighbors=8, p=2, weights=uniform;, score=0.990 total time=   0.0s\n",
      "[CV 1/4] END n_neighbors=8, p=2, weights=distance;, score=0.945 total time=   0.0s\n",
      "[CV 2/4] END n_neighbors=8, p=2, weights=distance;, score=0.960 total time=   0.0s\n",
      "[CV 3/4] END n_neighbors=8, p=2, weights=distance;, score=0.985 total time=   0.0s\n",
      "[CV 4/4] END n_neighbors=8, p=2, weights=distance;, score=0.995 total time=   0.0s\n",
      "[CV 1/4] END n_neighbors=9, p=1, weights=uniform;, score=0.930 total time=   0.0s\n",
      "[CV 2/4] END n_neighbors=9, p=1, weights=uniform;, score=0.955 total time=   0.0s\n",
      "[CV 3/4] END n_neighbors=9, p=1, weights=uniform;, score=0.980 total time=   0.0s\n",
      "[CV 4/4] END n_neighbors=9, p=1, weights=uniform;, score=0.990 total time=   0.0s\n",
      "[CV 1/4] END n_neighbors=9, p=1, weights=distance;, score=0.940 total time=   0.0s\n",
      "[CV 2/4] END n_neighbors=9, p=1, weights=distance;, score=0.960 total time=   0.0s\n",
      "[CV 3/4] END n_neighbors=9, p=1, weights=distance;, score=0.985 total time=   0.0s\n",
      "[CV 4/4] END n_neighbors=9, p=1, weights=distance;, score=0.995 total time=   0.0s\n",
      "[CV 1/4] END n_neighbors=9, p=2, weights=uniform;, score=0.930 total time=   0.0s\n",
      "[CV 2/4] END n_neighbors=9, p=2, weights=uniform;, score=0.955 total time=   0.0s\n",
      "[CV 3/4] END n_neighbors=9, p=2, weights=uniform;, score=0.975 total time=   0.0s\n",
      "[CV 4/4] END n_neighbors=9, p=2, weights=uniform;, score=0.990 total time=   0.0s\n",
      "[CV 1/4] END n_neighbors=9, p=2, weights=distance;, score=0.940 total time=   0.0s\n",
      "[CV 2/4] END n_neighbors=9, p=2, weights=distance;, score=0.960 total time=   0.0s\n",
      "[CV 3/4] END n_neighbors=9, p=2, weights=distance;, score=0.985 total time=   0.0s\n",
      "[CV 4/4] END n_neighbors=9, p=2, weights=distance;, score=0.995 total time=   0.0s\n",
      "[CV 1/4] END n_neighbors=10, p=1, weights=uniform;, score=0.935 total time=   0.0s\n",
      "[CV 2/4] END n_neighbors=10, p=1, weights=uniform;, score=0.970 total time=   0.0s\n",
      "[CV 3/4] END n_neighbors=10, p=1, weights=uniform;, score=0.975 total time=   0.0s\n",
      "[CV 4/4] END n_neighbors=10, p=1, weights=uniform;, score=0.990 total time=   0.0s\n",
      "[CV 1/4] END n_neighbors=10, p=1, weights=distance;, score=0.940 total time=   0.0s\n",
      "[CV 2/4] END n_neighbors=10, p=1, weights=distance;, score=0.960 total time=   0.0s\n",
      "[CV 3/4] END n_neighbors=10, p=1, weights=distance;, score=0.985 total time=   0.0s\n",
      "[CV 4/4] END n_neighbors=10, p=1, weights=distance;, score=0.985 total time=   0.0s\n",
      "[CV 1/4] END n_neighbors=10, p=2, weights=uniform;, score=0.935 total time=   0.0s\n",
      "[CV 2/4] END n_neighbors=10, p=2, weights=uniform;, score=0.960 total time=   0.0s\n",
      "[CV 3/4] END n_neighbors=10, p=2, weights=uniform;, score=0.975 total time=   0.0s\n",
      "[CV 4/4] END n_neighbors=10, p=2, weights=uniform;, score=0.990 total time=   0.0s\n",
      "[CV 1/4] END n_neighbors=10, p=2, weights=distance;, score=0.940 total time=   0.0s\n",
      "[CV 2/4] END n_neighbors=10, p=2, weights=distance;, score=0.960 total time=   0.0s\n",
      "[CV 3/4] END n_neighbors=10, p=2, weights=distance;, score=0.985 total time=   0.0s\n",
      "[CV 4/4] END n_neighbors=10, p=2, weights=distance;, score=0.990 total time=   0.0s\n"
     ]
    },
    {
     "data": {
      "text/html": [
       "<style>#sk-container-id-2 {color: black;background-color: white;}#sk-container-id-2 pre{padding: 0;}#sk-container-id-2 div.sk-toggleable {background-color: white;}#sk-container-id-2 label.sk-toggleable__label {cursor: pointer;display: block;width: 100%;margin-bottom: 0;padding: 0.3em;box-sizing: border-box;text-align: center;}#sk-container-id-2 label.sk-toggleable__label-arrow:before {content: \"▸\";float: left;margin-right: 0.25em;color: #696969;}#sk-container-id-2 label.sk-toggleable__label-arrow:hover:before {color: black;}#sk-container-id-2 div.sk-estimator:hover label.sk-toggleable__label-arrow:before {color: black;}#sk-container-id-2 div.sk-toggleable__content {max-height: 0;max-width: 0;overflow: hidden;text-align: left;background-color: #f0f8ff;}#sk-container-id-2 div.sk-toggleable__content pre {margin: 0.2em;color: black;border-radius: 0.25em;background-color: #f0f8ff;}#sk-container-id-2 input.sk-toggleable__control:checked~div.sk-toggleable__content {max-height: 200px;max-width: 100%;overflow: auto;}#sk-container-id-2 input.sk-toggleable__control:checked~label.sk-toggleable__label-arrow:before {content: \"▾\";}#sk-container-id-2 div.sk-estimator input.sk-toggleable__control:checked~label.sk-toggleable__label {background-color: #d4ebff;}#sk-container-id-2 div.sk-label input.sk-toggleable__control:checked~label.sk-toggleable__label {background-color: #d4ebff;}#sk-container-id-2 input.sk-hidden--visually {border: 0;clip: rect(1px 1px 1px 1px);clip: rect(1px, 1px, 1px, 1px);height: 1px;margin: -1px;overflow: hidden;padding: 0;position: absolute;width: 1px;}#sk-container-id-2 div.sk-estimator {font-family: monospace;background-color: #f0f8ff;border: 1px dotted black;border-radius: 0.25em;box-sizing: border-box;margin-bottom: 0.5em;}#sk-container-id-2 div.sk-estimator:hover {background-color: #d4ebff;}#sk-container-id-2 div.sk-parallel-item::after {content: \"\";width: 100%;border-bottom: 1px solid gray;flex-grow: 1;}#sk-container-id-2 div.sk-label:hover label.sk-toggleable__label {background-color: #d4ebff;}#sk-container-id-2 div.sk-serial::before {content: \"\";position: absolute;border-left: 1px solid gray;box-sizing: border-box;top: 0;bottom: 0;left: 50%;z-index: 0;}#sk-container-id-2 div.sk-serial {display: flex;flex-direction: column;align-items: center;background-color: white;padding-right: 0.2em;padding-left: 0.2em;position: relative;}#sk-container-id-2 div.sk-item {position: relative;z-index: 1;}#sk-container-id-2 div.sk-parallel {display: flex;align-items: stretch;justify-content: center;background-color: white;position: relative;}#sk-container-id-2 div.sk-item::before, #sk-container-id-2 div.sk-parallel-item::before {content: \"\";position: absolute;border-left: 1px solid gray;box-sizing: border-box;top: 0;bottom: 0;left: 50%;z-index: -1;}#sk-container-id-2 div.sk-parallel-item {display: flex;flex-direction: column;z-index: 1;position: relative;background-color: white;}#sk-container-id-2 div.sk-parallel-item:first-child::after {align-self: flex-end;width: 50%;}#sk-container-id-2 div.sk-parallel-item:last-child::after {align-self: flex-start;width: 50%;}#sk-container-id-2 div.sk-parallel-item:only-child::after {width: 0;}#sk-container-id-2 div.sk-dashed-wrapped {border: 1px dashed gray;margin: 0 0.4em 0.5em 0.4em;box-sizing: border-box;padding-bottom: 0.4em;background-color: white;}#sk-container-id-2 div.sk-label label {font-family: monospace;font-weight: bold;display: inline-block;line-height: 1.2em;}#sk-container-id-2 div.sk-label-container {text-align: center;}#sk-container-id-2 div.sk-container {/* jupyter's `normalize.less` sets `[hidden] { display: none; }` but bootstrap.min.css set `[hidden] { display: none !important; }` so we also need the `!important` here to be able to override the default hidden behavior on the sphinx rendered scikit-learn.org. See: https://github.com/scikit-learn/scikit-learn/issues/21755 */display: inline-block !important;position: relative;}#sk-container-id-2 div.sk-text-repr-fallback {display: none;}</style><div id=\"sk-container-id-2\" class=\"sk-top-container\"><div class=\"sk-text-repr-fallback\"><pre>GridSearchCV(cv=4, estimator=KNeighborsClassifier(),\n",
       "             param_grid={&#x27;n_neighbors&#x27;: [1, 2, 3, 4, 5, 6, 7, 8, 9, 10],\n",
       "                         &#x27;p&#x27;: [1, 2], &#x27;weights&#x27;: [&#x27;uniform&#x27;, &#x27;distance&#x27;]},\n",
       "             scoring=&#x27;accuracy&#x27;, verbose=3)</pre><b>In a Jupyter environment, please rerun this cell to show the HTML representation or trust the notebook. <br />On GitHub, the HTML representation is unable to render, please try loading this page with nbviewer.org.</b></div><div class=\"sk-container\" hidden><div class=\"sk-item sk-dashed-wrapped\"><div class=\"sk-label-container\"><div class=\"sk-label sk-toggleable\"><input class=\"sk-toggleable__control sk-hidden--visually\" id=\"sk-estimator-id-2\" type=\"checkbox\" ><label for=\"sk-estimator-id-2\" class=\"sk-toggleable__label sk-toggleable__label-arrow\">GridSearchCV</label><div class=\"sk-toggleable__content\"><pre>GridSearchCV(cv=4, estimator=KNeighborsClassifier(),\n",
       "             param_grid={&#x27;n_neighbors&#x27;: [1, 2, 3, 4, 5, 6, 7, 8, 9, 10],\n",
       "                         &#x27;p&#x27;: [1, 2], &#x27;weights&#x27;: [&#x27;uniform&#x27;, &#x27;distance&#x27;]},\n",
       "             scoring=&#x27;accuracy&#x27;, verbose=3)</pre></div></div></div><div class=\"sk-parallel\"><div class=\"sk-parallel-item\"><div class=\"sk-item\"><div class=\"sk-label-container\"><div class=\"sk-label sk-toggleable\"><input class=\"sk-toggleable__control sk-hidden--visually\" id=\"sk-estimator-id-3\" type=\"checkbox\" ><label for=\"sk-estimator-id-3\" class=\"sk-toggleable__label sk-toggleable__label-arrow\">estimator: KNeighborsClassifier</label><div class=\"sk-toggleable__content\"><pre>KNeighborsClassifier()</pre></div></div></div><div class=\"sk-serial\"><div class=\"sk-item\"><div class=\"sk-estimator sk-toggleable\"><input class=\"sk-toggleable__control sk-hidden--visually\" id=\"sk-estimator-id-4\" type=\"checkbox\" ><label for=\"sk-estimator-id-4\" class=\"sk-toggleable__label sk-toggleable__label-arrow\">KNeighborsClassifier</label><div class=\"sk-toggleable__content\"><pre>KNeighborsClassifier()</pre></div></div></div></div></div></div></div></div></div></div>"
      ],
      "text/plain": [
       "GridSearchCV(cv=4, estimator=KNeighborsClassifier(),\n",
       "             param_grid={'n_neighbors': [1, 2, 3, 4, 5, 6, 7, 8, 9, 10],\n",
       "                         'p': [1, 2], 'weights': ['uniform', 'distance']},\n",
       "             scoring='accuracy', verbose=3)"
      ]
     },
     "execution_count": 34,
     "metadata": {},
     "output_type": "execute_result"
    }
   ],
   "source": [
    "grid.fit(X_train,y_train)"
   ]
  },
  {
   "cell_type": "code",
   "execution_count": 35,
   "id": "bc3ca705",
   "metadata": {},
   "outputs": [
    {
     "data": {
      "text/plain": [
       "{'n_neighbors': 3, 'p': 1, 'weights': 'uniform'}"
      ]
     },
     "execution_count": 35,
     "metadata": {},
     "output_type": "execute_result"
    }
   ],
   "source": [
    "grid.best_params_"
   ]
  },
  {
   "cell_type": "code",
   "execution_count": 36,
   "id": "91fb5317",
   "metadata": {},
   "outputs": [],
   "source": [
    "classifier = KNeighborsClassifier(n_neighbors=3,p=1,algorithm=\"auto\",weights=\"uniform\")"
   ]
  },
  {
   "cell_type": "code",
   "execution_count": 37,
   "id": "71eb1a4c",
   "metadata": {},
   "outputs": [
    {
     "data": {
      "text/html": [
       "<style>#sk-container-id-3 {color: black;background-color: white;}#sk-container-id-3 pre{padding: 0;}#sk-container-id-3 div.sk-toggleable {background-color: white;}#sk-container-id-3 label.sk-toggleable__label {cursor: pointer;display: block;width: 100%;margin-bottom: 0;padding: 0.3em;box-sizing: border-box;text-align: center;}#sk-container-id-3 label.sk-toggleable__label-arrow:before {content: \"▸\";float: left;margin-right: 0.25em;color: #696969;}#sk-container-id-3 label.sk-toggleable__label-arrow:hover:before {color: black;}#sk-container-id-3 div.sk-estimator:hover label.sk-toggleable__label-arrow:before {color: black;}#sk-container-id-3 div.sk-toggleable__content {max-height: 0;max-width: 0;overflow: hidden;text-align: left;background-color: #f0f8ff;}#sk-container-id-3 div.sk-toggleable__content pre {margin: 0.2em;color: black;border-radius: 0.25em;background-color: #f0f8ff;}#sk-container-id-3 input.sk-toggleable__control:checked~div.sk-toggleable__content {max-height: 200px;max-width: 100%;overflow: auto;}#sk-container-id-3 input.sk-toggleable__control:checked~label.sk-toggleable__label-arrow:before {content: \"▾\";}#sk-container-id-3 div.sk-estimator input.sk-toggleable__control:checked~label.sk-toggleable__label {background-color: #d4ebff;}#sk-container-id-3 div.sk-label input.sk-toggleable__control:checked~label.sk-toggleable__label {background-color: #d4ebff;}#sk-container-id-3 input.sk-hidden--visually {border: 0;clip: rect(1px 1px 1px 1px);clip: rect(1px, 1px, 1px, 1px);height: 1px;margin: -1px;overflow: hidden;padding: 0;position: absolute;width: 1px;}#sk-container-id-3 div.sk-estimator {font-family: monospace;background-color: #f0f8ff;border: 1px dotted black;border-radius: 0.25em;box-sizing: border-box;margin-bottom: 0.5em;}#sk-container-id-3 div.sk-estimator:hover {background-color: #d4ebff;}#sk-container-id-3 div.sk-parallel-item::after {content: \"\";width: 100%;border-bottom: 1px solid gray;flex-grow: 1;}#sk-container-id-3 div.sk-label:hover label.sk-toggleable__label {background-color: #d4ebff;}#sk-container-id-3 div.sk-serial::before {content: \"\";position: absolute;border-left: 1px solid gray;box-sizing: border-box;top: 0;bottom: 0;left: 50%;z-index: 0;}#sk-container-id-3 div.sk-serial {display: flex;flex-direction: column;align-items: center;background-color: white;padding-right: 0.2em;padding-left: 0.2em;position: relative;}#sk-container-id-3 div.sk-item {position: relative;z-index: 1;}#sk-container-id-3 div.sk-parallel {display: flex;align-items: stretch;justify-content: center;background-color: white;position: relative;}#sk-container-id-3 div.sk-item::before, #sk-container-id-3 div.sk-parallel-item::before {content: \"\";position: absolute;border-left: 1px solid gray;box-sizing: border-box;top: 0;bottom: 0;left: 50%;z-index: -1;}#sk-container-id-3 div.sk-parallel-item {display: flex;flex-direction: column;z-index: 1;position: relative;background-color: white;}#sk-container-id-3 div.sk-parallel-item:first-child::after {align-self: flex-end;width: 50%;}#sk-container-id-3 div.sk-parallel-item:last-child::after {align-self: flex-start;width: 50%;}#sk-container-id-3 div.sk-parallel-item:only-child::after {width: 0;}#sk-container-id-3 div.sk-dashed-wrapped {border: 1px dashed gray;margin: 0 0.4em 0.5em 0.4em;box-sizing: border-box;padding-bottom: 0.4em;background-color: white;}#sk-container-id-3 div.sk-label label {font-family: monospace;font-weight: bold;display: inline-block;line-height: 1.2em;}#sk-container-id-3 div.sk-label-container {text-align: center;}#sk-container-id-3 div.sk-container {/* jupyter's `normalize.less` sets `[hidden] { display: none; }` but bootstrap.min.css set `[hidden] { display: none !important; }` so we also need the `!important` here to be able to override the default hidden behavior on the sphinx rendered scikit-learn.org. See: https://github.com/scikit-learn/scikit-learn/issues/21755 */display: inline-block !important;position: relative;}#sk-container-id-3 div.sk-text-repr-fallback {display: none;}</style><div id=\"sk-container-id-3\" class=\"sk-top-container\"><div class=\"sk-text-repr-fallback\"><pre>KNeighborsClassifier(n_neighbors=3, p=1)</pre><b>In a Jupyter environment, please rerun this cell to show the HTML representation or trust the notebook. <br />On GitHub, the HTML representation is unable to render, please try loading this page with nbviewer.org.</b></div><div class=\"sk-container\" hidden><div class=\"sk-item\"><div class=\"sk-estimator sk-toggleable\"><input class=\"sk-toggleable__control sk-hidden--visually\" id=\"sk-estimator-id-5\" type=\"checkbox\" checked><label for=\"sk-estimator-id-5\" class=\"sk-toggleable__label sk-toggleable__label-arrow\">KNeighborsClassifier</label><div class=\"sk-toggleable__content\"><pre>KNeighborsClassifier(n_neighbors=3, p=1)</pre></div></div></div></div></div>"
      ],
      "text/plain": [
       "KNeighborsClassifier(n_neighbors=3, p=1)"
      ]
     },
     "execution_count": 37,
     "metadata": {},
     "output_type": "execute_result"
    }
   ],
   "source": [
    "classifier.fit(X_train,y_train)"
   ]
  },
  {
   "cell_type": "code",
   "execution_count": 38,
   "id": "fdf20497",
   "metadata": {},
   "outputs": [],
   "source": [
    "y_predict = classifier.predict(X_test)"
   ]
  },
  {
   "cell_type": "code",
   "execution_count": 40,
   "id": "eececba2",
   "metadata": {},
   "outputs": [
    {
     "name": "stdout",
     "output_type": "stream",
     "text": [
      "accuracy score is =  0.945\n",
      "confusion matrix is =  [[105   4]\n",
      " [  7  84]]\n",
      "classification report is =                precision    recall  f1-score   support\n",
      "\n",
      "           0       0.94      0.96      0.95       109\n",
      "           1       0.95      0.92      0.94        91\n",
      "\n",
      "    accuracy                           0.94       200\n",
      "   macro avg       0.95      0.94      0.94       200\n",
      "weighted avg       0.95      0.94      0.94       200\n",
      "\n"
     ]
    }
   ],
   "source": [
    "print(\"accuracy score is = \", accuracy_score(y_test, y_predict))\n",
    "print(\"confusion matrix is = \", confusion_matrix(y_test, y_predict))\n",
    "print(\"classification report is = \", classification_report(y_test, y_predict))"
   ]
  },
  {
   "cell_type": "code",
   "execution_count": 59,
   "id": "34fb49d9",
   "metadata": {},
   "outputs": [],
   "source": [
    "params = {\n",
    "   \"n_neighbors\" : [1,6,7,8,9,10]\n",
    "}\n",
    "grid = GridSearchCV(KNeighborsClassifier(), param_grid= params , cv=4,scoring=\"accuracy\",verbose=3)"
   ]
  },
  {
   "cell_type": "code",
   "execution_count": 60,
   "id": "050c0e60",
   "metadata": {},
   "outputs": [
    {
     "name": "stdout",
     "output_type": "stream",
     "text": [
      "Fitting 4 folds for each of 6 candidates, totalling 24 fits\n",
      "[CV 1/4] END .....................n_neighbors=1;, score=0.945 total time=   0.0s\n",
      "[CV 2/4] END .....................n_neighbors=1;, score=0.955 total time=   0.0s\n",
      "[CV 3/4] END .....................n_neighbors=1;, score=0.985 total time=   0.0s\n",
      "[CV 4/4] END .....................n_neighbors=1;, score=0.980 total time=   0.0s\n",
      "[CV 1/4] END .....................n_neighbors=6;, score=0.945 total time=   0.0s\n",
      "[CV 2/4] END .....................n_neighbors=6;, score=0.955 total time=   0.0s\n",
      "[CV 3/4] END .....................n_neighbors=6;, score=0.970 total time=   0.0s\n",
      "[CV 4/4] END .....................n_neighbors=6;, score=0.995 total time=   0.0s\n",
      "[CV 1/4] END .....................n_neighbors=7;, score=0.935 total time=   0.0s\n",
      "[CV 2/4] END .....................n_neighbors=7;, score=0.955 total time=   0.0s\n",
      "[CV 3/4] END .....................n_neighbors=7;, score=0.975 total time=   0.0s\n",
      "[CV 4/4] END .....................n_neighbors=7;, score=0.995 total time=   0.0s\n",
      "[CV 1/4] END .....................n_neighbors=8;, score=0.940 total time=   0.0s\n",
      "[CV 2/4] END .....................n_neighbors=8;, score=0.950 total time=   0.0s\n",
      "[CV 3/4] END .....................n_neighbors=8;, score=0.970 total time=   0.0s\n",
      "[CV 4/4] END .....................n_neighbors=8;, score=0.990 total time=   0.0s\n",
      "[CV 1/4] END .....................n_neighbors=9;, score=0.930 total time=   0.0s\n",
      "[CV 2/4] END .....................n_neighbors=9;, score=0.955 total time=   0.0s\n",
      "[CV 3/4] END .....................n_neighbors=9;, score=0.975 total time=   0.0s\n",
      "[CV 4/4] END .....................n_neighbors=9;, score=0.990 total time=   0.0s\n",
      "[CV 1/4] END ....................n_neighbors=10;, score=0.935 total time=   0.0s\n",
      "[CV 2/4] END ....................n_neighbors=10;, score=0.960 total time=   0.0s\n",
      "[CV 3/4] END ....................n_neighbors=10;, score=0.975 total time=   0.0s\n",
      "[CV 4/4] END ....................n_neighbors=10;, score=0.990 total time=   0.0s\n"
     ]
    },
    {
     "data": {
      "text/html": [
       "<style>#sk-container-id-9 {color: black;background-color: white;}#sk-container-id-9 pre{padding: 0;}#sk-container-id-9 div.sk-toggleable {background-color: white;}#sk-container-id-9 label.sk-toggleable__label {cursor: pointer;display: block;width: 100%;margin-bottom: 0;padding: 0.3em;box-sizing: border-box;text-align: center;}#sk-container-id-9 label.sk-toggleable__label-arrow:before {content: \"▸\";float: left;margin-right: 0.25em;color: #696969;}#sk-container-id-9 label.sk-toggleable__label-arrow:hover:before {color: black;}#sk-container-id-9 div.sk-estimator:hover label.sk-toggleable__label-arrow:before {color: black;}#sk-container-id-9 div.sk-toggleable__content {max-height: 0;max-width: 0;overflow: hidden;text-align: left;background-color: #f0f8ff;}#sk-container-id-9 div.sk-toggleable__content pre {margin: 0.2em;color: black;border-radius: 0.25em;background-color: #f0f8ff;}#sk-container-id-9 input.sk-toggleable__control:checked~div.sk-toggleable__content {max-height: 200px;max-width: 100%;overflow: auto;}#sk-container-id-9 input.sk-toggleable__control:checked~label.sk-toggleable__label-arrow:before {content: \"▾\";}#sk-container-id-9 div.sk-estimator input.sk-toggleable__control:checked~label.sk-toggleable__label {background-color: #d4ebff;}#sk-container-id-9 div.sk-label input.sk-toggleable__control:checked~label.sk-toggleable__label {background-color: #d4ebff;}#sk-container-id-9 input.sk-hidden--visually {border: 0;clip: rect(1px 1px 1px 1px);clip: rect(1px, 1px, 1px, 1px);height: 1px;margin: -1px;overflow: hidden;padding: 0;position: absolute;width: 1px;}#sk-container-id-9 div.sk-estimator {font-family: monospace;background-color: #f0f8ff;border: 1px dotted black;border-radius: 0.25em;box-sizing: border-box;margin-bottom: 0.5em;}#sk-container-id-9 div.sk-estimator:hover {background-color: #d4ebff;}#sk-container-id-9 div.sk-parallel-item::after {content: \"\";width: 100%;border-bottom: 1px solid gray;flex-grow: 1;}#sk-container-id-9 div.sk-label:hover label.sk-toggleable__label {background-color: #d4ebff;}#sk-container-id-9 div.sk-serial::before {content: \"\";position: absolute;border-left: 1px solid gray;box-sizing: border-box;top: 0;bottom: 0;left: 50%;z-index: 0;}#sk-container-id-9 div.sk-serial {display: flex;flex-direction: column;align-items: center;background-color: white;padding-right: 0.2em;padding-left: 0.2em;position: relative;}#sk-container-id-9 div.sk-item {position: relative;z-index: 1;}#sk-container-id-9 div.sk-parallel {display: flex;align-items: stretch;justify-content: center;background-color: white;position: relative;}#sk-container-id-9 div.sk-item::before, #sk-container-id-9 div.sk-parallel-item::before {content: \"\";position: absolute;border-left: 1px solid gray;box-sizing: border-box;top: 0;bottom: 0;left: 50%;z-index: -1;}#sk-container-id-9 div.sk-parallel-item {display: flex;flex-direction: column;z-index: 1;position: relative;background-color: white;}#sk-container-id-9 div.sk-parallel-item:first-child::after {align-self: flex-end;width: 50%;}#sk-container-id-9 div.sk-parallel-item:last-child::after {align-self: flex-start;width: 50%;}#sk-container-id-9 div.sk-parallel-item:only-child::after {width: 0;}#sk-container-id-9 div.sk-dashed-wrapped {border: 1px dashed gray;margin: 0 0.4em 0.5em 0.4em;box-sizing: border-box;padding-bottom: 0.4em;background-color: white;}#sk-container-id-9 div.sk-label label {font-family: monospace;font-weight: bold;display: inline-block;line-height: 1.2em;}#sk-container-id-9 div.sk-label-container {text-align: center;}#sk-container-id-9 div.sk-container {/* jupyter's `normalize.less` sets `[hidden] { display: none; }` but bootstrap.min.css set `[hidden] { display: none !important; }` so we also need the `!important` here to be able to override the default hidden behavior on the sphinx rendered scikit-learn.org. See: https://github.com/scikit-learn/scikit-learn/issues/21755 */display: inline-block !important;position: relative;}#sk-container-id-9 div.sk-text-repr-fallback {display: none;}</style><div id=\"sk-container-id-9\" class=\"sk-top-container\"><div class=\"sk-text-repr-fallback\"><pre>GridSearchCV(cv=4, estimator=KNeighborsClassifier(),\n",
       "             param_grid={&#x27;n_neighbors&#x27;: [1, 6, 7, 8, 9, 10]},\n",
       "             scoring=&#x27;accuracy&#x27;, verbose=3)</pre><b>In a Jupyter environment, please rerun this cell to show the HTML representation or trust the notebook. <br />On GitHub, the HTML representation is unable to render, please try loading this page with nbviewer.org.</b></div><div class=\"sk-container\" hidden><div class=\"sk-item sk-dashed-wrapped\"><div class=\"sk-label-container\"><div class=\"sk-label sk-toggleable\"><input class=\"sk-toggleable__control sk-hidden--visually\" id=\"sk-estimator-id-15\" type=\"checkbox\" ><label for=\"sk-estimator-id-15\" class=\"sk-toggleable__label sk-toggleable__label-arrow\">GridSearchCV</label><div class=\"sk-toggleable__content\"><pre>GridSearchCV(cv=4, estimator=KNeighborsClassifier(),\n",
       "             param_grid={&#x27;n_neighbors&#x27;: [1, 6, 7, 8, 9, 10]},\n",
       "             scoring=&#x27;accuracy&#x27;, verbose=3)</pre></div></div></div><div class=\"sk-parallel\"><div class=\"sk-parallel-item\"><div class=\"sk-item\"><div class=\"sk-label-container\"><div class=\"sk-label sk-toggleable\"><input class=\"sk-toggleable__control sk-hidden--visually\" id=\"sk-estimator-id-16\" type=\"checkbox\" ><label for=\"sk-estimator-id-16\" class=\"sk-toggleable__label sk-toggleable__label-arrow\">estimator: KNeighborsClassifier</label><div class=\"sk-toggleable__content\"><pre>KNeighborsClassifier()</pre></div></div></div><div class=\"sk-serial\"><div class=\"sk-item\"><div class=\"sk-estimator sk-toggleable\"><input class=\"sk-toggleable__control sk-hidden--visually\" id=\"sk-estimator-id-17\" type=\"checkbox\" ><label for=\"sk-estimator-id-17\" class=\"sk-toggleable__label sk-toggleable__label-arrow\">KNeighborsClassifier</label><div class=\"sk-toggleable__content\"><pre>KNeighborsClassifier()</pre></div></div></div></div></div></div></div></div></div></div>"
      ],
      "text/plain": [
       "GridSearchCV(cv=4, estimator=KNeighborsClassifier(),\n",
       "             param_grid={'n_neighbors': [1, 6, 7, 8, 9, 10]},\n",
       "             scoring='accuracy', verbose=3)"
      ]
     },
     "execution_count": 60,
     "metadata": {},
     "output_type": "execute_result"
    }
   ],
   "source": [
    "grid.fit(X_train,y_train)"
   ]
  },
  {
   "cell_type": "code",
   "execution_count": 61,
   "id": "54330bed",
   "metadata": {},
   "outputs": [
    {
     "data": {
      "text/plain": [
       "{'n_neighbors': 6}"
      ]
     },
     "execution_count": 61,
     "metadata": {},
     "output_type": "execute_result"
    }
   ],
   "source": [
    "grid.best_params_"
   ]
  },
  {
   "cell_type": "code",
   "execution_count": 66,
   "id": "ca4251b7",
   "metadata": {},
   "outputs": [],
   "source": [
    "classifier = KNeighborsClassifier(n_neighbors=6)"
   ]
  },
  {
   "cell_type": "code",
   "execution_count": 67,
   "id": "6362254a",
   "metadata": {},
   "outputs": [
    {
     "data": {
      "text/html": [
       "<style>#sk-container-id-11 {color: black;background-color: white;}#sk-container-id-11 pre{padding: 0;}#sk-container-id-11 div.sk-toggleable {background-color: white;}#sk-container-id-11 label.sk-toggleable__label {cursor: pointer;display: block;width: 100%;margin-bottom: 0;padding: 0.3em;box-sizing: border-box;text-align: center;}#sk-container-id-11 label.sk-toggleable__label-arrow:before {content: \"▸\";float: left;margin-right: 0.25em;color: #696969;}#sk-container-id-11 label.sk-toggleable__label-arrow:hover:before {color: black;}#sk-container-id-11 div.sk-estimator:hover label.sk-toggleable__label-arrow:before {color: black;}#sk-container-id-11 div.sk-toggleable__content {max-height: 0;max-width: 0;overflow: hidden;text-align: left;background-color: #f0f8ff;}#sk-container-id-11 div.sk-toggleable__content pre {margin: 0.2em;color: black;border-radius: 0.25em;background-color: #f0f8ff;}#sk-container-id-11 input.sk-toggleable__control:checked~div.sk-toggleable__content {max-height: 200px;max-width: 100%;overflow: auto;}#sk-container-id-11 input.sk-toggleable__control:checked~label.sk-toggleable__label-arrow:before {content: \"▾\";}#sk-container-id-11 div.sk-estimator input.sk-toggleable__control:checked~label.sk-toggleable__label {background-color: #d4ebff;}#sk-container-id-11 div.sk-label input.sk-toggleable__control:checked~label.sk-toggleable__label {background-color: #d4ebff;}#sk-container-id-11 input.sk-hidden--visually {border: 0;clip: rect(1px 1px 1px 1px);clip: rect(1px, 1px, 1px, 1px);height: 1px;margin: -1px;overflow: hidden;padding: 0;position: absolute;width: 1px;}#sk-container-id-11 div.sk-estimator {font-family: monospace;background-color: #f0f8ff;border: 1px dotted black;border-radius: 0.25em;box-sizing: border-box;margin-bottom: 0.5em;}#sk-container-id-11 div.sk-estimator:hover {background-color: #d4ebff;}#sk-container-id-11 div.sk-parallel-item::after {content: \"\";width: 100%;border-bottom: 1px solid gray;flex-grow: 1;}#sk-container-id-11 div.sk-label:hover label.sk-toggleable__label {background-color: #d4ebff;}#sk-container-id-11 div.sk-serial::before {content: \"\";position: absolute;border-left: 1px solid gray;box-sizing: border-box;top: 0;bottom: 0;left: 50%;z-index: 0;}#sk-container-id-11 div.sk-serial {display: flex;flex-direction: column;align-items: center;background-color: white;padding-right: 0.2em;padding-left: 0.2em;position: relative;}#sk-container-id-11 div.sk-item {position: relative;z-index: 1;}#sk-container-id-11 div.sk-parallel {display: flex;align-items: stretch;justify-content: center;background-color: white;position: relative;}#sk-container-id-11 div.sk-item::before, #sk-container-id-11 div.sk-parallel-item::before {content: \"\";position: absolute;border-left: 1px solid gray;box-sizing: border-box;top: 0;bottom: 0;left: 50%;z-index: -1;}#sk-container-id-11 div.sk-parallel-item {display: flex;flex-direction: column;z-index: 1;position: relative;background-color: white;}#sk-container-id-11 div.sk-parallel-item:first-child::after {align-self: flex-end;width: 50%;}#sk-container-id-11 div.sk-parallel-item:last-child::after {align-self: flex-start;width: 50%;}#sk-container-id-11 div.sk-parallel-item:only-child::after {width: 0;}#sk-container-id-11 div.sk-dashed-wrapped {border: 1px dashed gray;margin: 0 0.4em 0.5em 0.4em;box-sizing: border-box;padding-bottom: 0.4em;background-color: white;}#sk-container-id-11 div.sk-label label {font-family: monospace;font-weight: bold;display: inline-block;line-height: 1.2em;}#sk-container-id-11 div.sk-label-container {text-align: center;}#sk-container-id-11 div.sk-container {/* jupyter's `normalize.less` sets `[hidden] { display: none; }` but bootstrap.min.css set `[hidden] { display: none !important; }` so we also need the `!important` here to be able to override the default hidden behavior on the sphinx rendered scikit-learn.org. See: https://github.com/scikit-learn/scikit-learn/issues/21755 */display: inline-block !important;position: relative;}#sk-container-id-11 div.sk-text-repr-fallback {display: none;}</style><div id=\"sk-container-id-11\" class=\"sk-top-container\"><div class=\"sk-text-repr-fallback\"><pre>KNeighborsClassifier(n_neighbors=6)</pre><b>In a Jupyter environment, please rerun this cell to show the HTML representation or trust the notebook. <br />On GitHub, the HTML representation is unable to render, please try loading this page with nbviewer.org.</b></div><div class=\"sk-container\" hidden><div class=\"sk-item\"><div class=\"sk-estimator sk-toggleable\"><input class=\"sk-toggleable__control sk-hidden--visually\" id=\"sk-estimator-id-19\" type=\"checkbox\" checked><label for=\"sk-estimator-id-19\" class=\"sk-toggleable__label sk-toggleable__label-arrow\">KNeighborsClassifier</label><div class=\"sk-toggleable__content\"><pre>KNeighborsClassifier(n_neighbors=6)</pre></div></div></div></div></div>"
      ],
      "text/plain": [
       "KNeighborsClassifier(n_neighbors=6)"
      ]
     },
     "execution_count": 67,
     "metadata": {},
     "output_type": "execute_result"
    }
   ],
   "source": [
    "classifier.fit(X_train,y_train)"
   ]
  },
  {
   "cell_type": "code",
   "execution_count": 68,
   "id": "20d53ee7",
   "metadata": {},
   "outputs": [],
   "source": [
    "y_predict = classifier.predict(X_test)"
   ]
  },
  {
   "cell_type": "code",
   "execution_count": 69,
   "id": "13edeff7",
   "metadata": {},
   "outputs": [
    {
     "name": "stdout",
     "output_type": "stream",
     "text": [
      "accuracy score is =  0.955\n",
      "confusion matrix is =  [[107   2]\n",
      " [  7  84]]\n",
      "classification report is =                precision    recall  f1-score   support\n",
      "\n",
      "           0       0.94      0.98      0.96       109\n",
      "           1       0.98      0.92      0.95        91\n",
      "\n",
      "    accuracy                           0.95       200\n",
      "   macro avg       0.96      0.95      0.95       200\n",
      "weighted avg       0.96      0.95      0.95       200\n",
      "\n"
     ]
    }
   ],
   "source": [
    "print(\"accuracy score is = \", accuracy_score(y_test, y_predict))\n",
    "print(\"confusion matrix is = \", confusion_matrix(y_test, y_predict))\n",
    "print(\"classification report is = \", classification_report(y_test, y_predict))"
   ]
  },
  {
   "cell_type": "code",
   "execution_count": null,
   "id": "79ccfef3",
   "metadata": {},
   "outputs": [],
   "source": []
  }
 ],
 "metadata": {
  "kernelspec": {
   "display_name": "Python 3 (ipykernel)",
   "language": "python",
   "name": "python3"
  },
  "language_info": {
   "codemirror_mode": {
    "name": "ipython",
    "version": 3
   },
   "file_extension": ".py",
   "mimetype": "text/x-python",
   "name": "python",
   "nbconvert_exporter": "python",
   "pygments_lexer": "ipython3",
   "version": "3.9.7"
  }
 },
 "nbformat": 4,
 "nbformat_minor": 5
}
