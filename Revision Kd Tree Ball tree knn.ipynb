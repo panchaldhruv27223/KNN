{
 "cells": [
  {
   "cell_type": "code",
   "execution_count": 3,
   "id": "e0d4c955",
   "metadata": {},
   "outputs": [],
   "source": [
    "import pandas as pd\n",
    "import numpy as np\n",
    "import seaborn as sns \n",
    "from sklearn.model_selection import train_test_split\n",
    "from sklearn.datasets import make_regression"
   ]
  },
  {
   "cell_type": "code",
   "execution_count": 4,
   "id": "aa8cc966",
   "metadata": {},
   "outputs": [
    {
     "data": {
      "text/plain": [
       "((1000, 4), (1000,))"
      ]
     },
     "execution_count": 4,
     "metadata": {},
     "output_type": "execute_result"
    }
   ],
   "source": [
    "X, y = make_regression(n_samples=1000,n_features=4,bias=0.1,noise=0.10,random_state=42)\n",
    "X.shape, y.shape"
   ]
  },
  {
   "cell_type": "code",
   "execution_count": 5,
   "id": "fe4e8f07",
   "metadata": {},
   "outputs": [
    {
     "data": {
      "text/plain": [
       "array([[-0.35929209,  1.84670733,  0.58392819,  0.68189149],\n",
       "       [ 0.36964219, -0.33381949,  1.17312464,  0.6969544 ],\n",
       "       [ 1.23781631,  1.35387237, -0.11453985, -1.71313453],\n",
       "       ...,\n",
       "       [-0.05694562,  0.15030176, -0.36361221,  0.11422765],\n",
       "       [-0.7282722 , -0.96453779,  0.50596555, -0.27981034],\n",
       "       [-1.17804087,  0.45122532,  1.18349367,  0.90039859]])"
      ]
     },
     "execution_count": 5,
     "metadata": {},
     "output_type": "execute_result"
    }
   ],
   "source": [
    "X"
   ]
  },
  {
   "cell_type": "code",
   "execution_count": 6,
   "id": "7b55a9b9",
   "metadata": {},
   "outputs": [
    {
     "data": {
      "text/plain": [
       "array([ 8.71694505e+01,  1.64387705e+02, -1.83573883e+01,  2.39310307e+01,\n",
       "        2.45922611e+02, -3.21803597e+02, -5.53819360e+01,  7.90909469e+01,\n",
       "        2.88772145e+00,  1.28305577e+01,  6.19136259e+01, -2.88826878e+02,\n",
       "       -9.49828129e+01,  2.71068934e+02, -9.93971732e+01, -9.28893065e+01,\n",
       "        8.67299013e+01, -4.96764956e+00, -1.11119775e+02, -1.75625557e+02,\n",
       "       -5.40056221e+00,  5.92998225e+00, -1.37549101e+02,  9.62900030e+01,\n",
       "       -1.18575861e+01, -2.21635293e+00, -4.40737541e+01, -1.23771487e+02,\n",
       "        1.24885164e+02,  1.09300055e+02, -8.21875878e+01, -2.11054981e+02,\n",
       "       -1.59915144e+02,  1.80129065e+02, -4.48169475e+01,  1.01007177e+02,\n",
       "        1.33438423e+02, -2.30918377e+01, -1.65085274e+01,  6.37626970e+01,\n",
       "       -5.56063416e+01,  6.42052142e+01, -1.07456245e+02, -1.50613155e+01,\n",
       "       -3.29602881e+02,  5.58455875e+01, -1.11172533e+02,  9.53170107e+01,\n",
       "        2.15040885e+02, -2.06140942e+01,  6.40389957e+01,  1.88281901e+02,\n",
       "        1.70781063e+02, -1.72047034e+02,  1.91668163e+02,  2.85700855e+01,\n",
       "        4.46512700e+01, -1.03850815e+02,  1.71859594e+02,  1.43508450e+02,\n",
       "        3.77219150e+01,  1.90256307e+02,  2.28395251e+02,  4.18063652e+00,\n",
       "       -1.80159560e+02, -1.64354016e+00, -2.66666878e+01, -1.57241938e+02,\n",
       "       -9.58660523e+01,  7.40068879e+01,  5.96123788e+01, -2.18324749e+01,\n",
       "       -5.07911168e+01,  5.45373503e+01, -8.22682822e+01, -2.07849832e+02,\n",
       "       -2.34602993e+02,  1.68609416e+01,  2.31478034e+01, -1.84765162e+01,\n",
       "       -7.56848325e+01,  2.00660486e+01, -9.39826991e+01, -2.04601990e+02,\n",
       "       -8.39759036e+01,  1.03720296e+02,  7.13275421e+00, -6.67123613e+00,\n",
       "        1.91926214e+02,  6.25204201e+01, -6.22178101e+01, -6.09609322e+00,\n",
       "        1.17753512e+02, -7.23744505e+01, -9.03701827e+01, -2.06929818e+01,\n",
       "       -6.09610096e+01, -1.07622053e+00,  6.33279790e+01,  1.89195659e+02,\n",
       "        1.65442965e+02, -4.44859848e+01,  7.86956032e+01,  9.48371424e+01,\n",
       "        5.28578257e+01,  1.72710785e+02,  4.81781157e+01, -6.94065737e+01,\n",
       "        1.20866388e+02,  1.85521021e+02, -2.97433784e+01,  1.50617098e+01,\n",
       "       -7.83142880e+01, -2.05353608e+02, -1.86290125e+02,  3.88147400e+02,\n",
       "       -8.06519452e+01, -5.13080205e+01,  1.41354157e+01, -1.68190568e+02,\n",
       "        2.50122691e+01, -2.09336278e+02, -5.90865261e+01,  6.05877312e+01,\n",
       "        1.30094565e+02, -9.58238497e+01,  2.18435196e+02, -1.39296182e+02,\n",
       "        2.35375106e+02,  1.70178671e+01,  4.24119878e+01, -8.09229690e+01,\n",
       "        5.90724236e+01, -4.49554490e+01,  1.57385762e+02,  1.17401634e+02,\n",
       "        2.00121355e+02,  1.20473857e+01,  5.78519606e+00, -2.93067334e+01,\n",
       "       -2.01536807e+02,  2.58626693e+01, -1.42817569e+02, -1.87011519e+02,\n",
       "        1.83828028e+02, -9.53498939e+01, -8.52672070e+01,  6.21608858e+01,\n",
       "        1.91697779e+02,  3.00332303e+01,  6.61969510e+00, -8.32274035e+01,\n",
       "       -5.28709240e+01,  1.07071627e+02, -2.30745660e+02,  1.29073562e+02,\n",
       "        5.93668073e+01, -2.15046845e-01, -1.05751057e+02, -1.32093000e+02,\n",
       "       -1.94277837e+02, -9.39354177e+01, -7.61137528e+00,  6.22860256e+01,\n",
       "        2.16466091e+02, -1.01948689e+02,  6.67702938e+01, -1.27582716e+02,\n",
       "        6.19174758e+01, -7.50904836e+01, -2.01436056e+02,  1.21478190e+02,\n",
       "        2.07170866e+02,  1.35033965e+02, -6.03779128e+01, -7.59979545e+01,\n",
       "        5.99124087e+01,  1.41155812e+02, -1.51573143e+02,  3.39611665e+01,\n",
       "       -5.22042108e+01, -1.95806789e+02,  2.58421738e+02, -5.94863965e+01,\n",
       "       -8.74980326e+01,  2.37986740e+02,  7.29417982e+01,  5.19711672e+00,\n",
       "        9.54086523e-01,  1.80751296e+02, -2.37755796e+01, -1.87140188e+02,\n",
       "        4.31998294e+01,  1.46944963e+02, -1.76414352e+01,  2.81664247e+01,\n",
       "       -1.24969207e+02, -2.46231179e+02, -7.53095458e+01,  9.91921007e+01,\n",
       "        1.26804337e+02, -1.51784530e+02, -1.26690098e+01, -1.19344725e+02,\n",
       "       -7.58483214e+01, -1.68654359e+02,  8.92369981e+00,  9.15582596e-01,\n",
       "        1.00551913e+02, -3.05545090e+02,  7.03338729e+01, -2.52123750e+02,\n",
       "        1.12574827e+02,  8.56944263e+01,  6.98893032e+01,  8.03436875e+00,\n",
       "       -1.67847611e+02,  1.59632147e+02, -6.41269016e+01,  9.63749881e+01,\n",
       "        7.46651226e+01,  4.84674308e+00,  8.35981713e+01, -3.68720828e+01,\n",
       "       -7.52018244e+01, -4.96858590e+01,  3.79674249e+01, -1.30824154e+02,\n",
       "        3.99056917e+01, -7.05236676e+01, -1.66206446e+02,  2.37978312e+02,\n",
       "       -1.44855221e+01,  7.27185786e+01,  3.81279748e-01, -1.52062373e+02,\n",
       "        5.23054368e+01, -3.73306069e+01, -1.78775637e+01,  7.56084347e+01,\n",
       "       -7.03023372e+01, -1.16876543e+01, -1.75882256e+02,  1.49081983e+02,\n",
       "        4.96103979e+00,  2.85832337e+01, -1.52638415e+02,  1.19528780e+01,\n",
       "        1.32293755e+01,  1.14060759e+02,  6.42342493e+01,  7.96647500e+01,\n",
       "       -1.11146937e+02,  1.72985756e+02,  2.18755302e+01,  1.02803532e+02,\n",
       "       -2.00644970e+02,  6.82161535e+00,  8.01820800e+01, -4.83044698e+01,\n",
       "        1.31568331e+02,  8.46278320e+01, -8.14334666e+01,  2.73225133e+01,\n",
       "       -7.36050671e+00,  3.04869104e+01,  1.34708867e+02, -7.58880110e+01,\n",
       "       -2.20528326e+02, -1.11135719e+02,  4.55822475e+01,  1.81787981e+02,\n",
       "       -1.03995103e+02, -1.95382770e+02, -1.29869509e+02,  1.13739415e+02,\n",
       "        1.09969730e+02, -7.09291972e+01,  1.80162318e+02,  2.85273386e+00,\n",
       "        9.16690054e+01,  1.81997470e+02,  9.32452070e+01, -7.76592196e+01,\n",
       "        5.83131793e+01,  1.82393883e+02,  1.59307226e+02,  2.27505917e+02,\n",
       "        3.94522488e+01,  1.02610779e+02, -1.04032554e+02, -1.73539747e+01,\n",
       "        3.06203591e+01, -1.28275117e+02, -7.82941965e+01, -3.48344605e+01,\n",
       "        2.46528435e+01, -1.08203867e+02, -2.12385748e+01, -2.26051994e+01,\n",
       "       -1.25542150e+01,  1.55865733e+02, -9.57492056e+01,  4.24287256e+01,\n",
       "       -2.53185275e+02, -5.98743271e+01, -1.54766792e+02,  1.29832095e+02,\n",
       "        1.17381429e+01,  1.54999269e+01,  7.78131597e+01,  1.38237666e+02,\n",
       "       -7.09923770e+00,  1.41387121e+02,  8.37592448e+01,  8.40619153e+01,\n",
       "        8.76976537e+01,  3.88374581e+01, -2.56278183e+01, -9.34197379e+01,\n",
       "        1.65258141e+02, -1.97187332e+02,  2.35358535e+01, -4.04845517e+01,\n",
       "       -2.56353934e+02, -1.17762786e+02,  1.44054803e+02, -1.50918740e+01,\n",
       "        4.79713029e+01,  5.35201707e+01, -1.90996644e+02, -6.10808432e+01,\n",
       "        9.84651556e+01, -2.86266606e+01, -1.11911203e+02,  2.90369464e+01,\n",
       "        1.64753770e+02, -9.15457949e+00, -1.11637678e+02, -1.68017505e+02,\n",
       "        2.37295862e+02,  3.48883399e+01,  1.06494215e+02, -8.01814562e+01,\n",
       "       -5.16944289e+01, -2.35739396e+01, -1.50152333e+02,  4.45423205e+00,\n",
       "        4.28887413e+01,  2.07995197e+01, -6.14008967e+01,  1.54064795e+02,\n",
       "       -4.61883958e+01,  3.13905032e+02,  5.01989393e+01, -2.36176508e+02,\n",
       "        9.76284902e+01,  1.26620306e+01,  8.42304825e+00,  1.03768351e+02,\n",
       "       -2.75229891e+02, -3.86062188e+00,  1.32136704e+01, -7.94141444e+01,\n",
       "        6.47594812e+01,  8.34461710e+01,  2.75265356e+01, -1.01379466e+02,\n",
       "       -8.52692838e+01,  3.44038126e+01,  5.60882319e+01, -1.48464493e+01,\n",
       "       -6.83415203e+01, -1.24530589e+02,  2.48552952e+02,  5.77253111e+00,\n",
       "       -6.13616144e+01, -1.57127197e+02,  2.30900592e+02,  1.21063588e+02,\n",
       "        7.29345711e+01,  3.28440473e+02, -1.96908393e+02,  8.94301689e+01,\n",
       "        1.44507732e+02, -8.55743416e+00,  1.02415962e+02, -1.33454175e+01,\n",
       "       -2.46613204e+01, -3.15817367e-01,  1.82892538e+02, -1.16698072e+02,\n",
       "        7.06203145e+00,  2.16966172e+02, -3.83040851e+01, -1.43104119e+02,\n",
       "       -1.57853645e+02,  4.81790100e+01,  6.66848867e+01,  3.30437198e+01,\n",
       "        8.94503010e+01, -1.05473289e+02, -5.71272955e+01,  2.97981168e+01,\n",
       "       -1.62397606e+02, -2.34351331e+02,  8.50349257e+01, -7.69430259e+01,\n",
       "       -1.87055667e+02,  6.06410611e+01,  1.32653040e+02, -1.29237193e+02,\n",
       "        9.43711347e+01, -2.53975767e+02, -1.00707455e+02, -7.85781502e-01,\n",
       "        1.45903021e+02, -1.76152295e+02, -5.50242347e+00, -8.85741733e+01,\n",
       "       -1.46559267e+02,  5.80794674e+01,  1.80515974e+01, -1.84125075e+02,\n",
       "       -2.75397027e+02, -9.32274199e+01, -1.34605568e+01,  8.37145973e+00,\n",
       "       -9.14399822e+01, -5.55006712e+01, -2.08153874e+02,  1.39641897e+01,\n",
       "       -1.68307361e+02, -2.53510252e+02, -2.63833451e+01, -2.01346211e+02,\n",
       "        1.30400040e+01,  7.66161731e+01,  8.46087086e+01, -3.63017001e+01,\n",
       "        2.69487607e+01,  1.24951075e+02,  9.66339580e+01,  1.12982541e+02,\n",
       "        8.78652629e+01, -9.26724958e+00,  2.01807084e+01, -9.43452782e+01,\n",
       "       -9.16271532e+01,  1.46073067e+02, -1.56750338e+01, -1.69287448e+02,\n",
       "        8.30286788e+01, -2.37674714e+01,  1.34847730e+02,  3.90330614e+01,\n",
       "       -1.08657350e+02,  1.55748934e+00, -4.53490084e+01, -5.29496519e+01,\n",
       "       -8.59025248e+01, -1.84011582e+01,  2.66133598e+01,  1.93932191e+01,\n",
       "        1.36734705e+02,  5.75657410e+01,  2.33092487e+02, -2.41691429e+01,\n",
       "       -4.50842959e+01,  1.94481148e+02,  2.00901785e+01, -5.06315728e+01,\n",
       "       -2.36639240e+01, -1.05397871e+02,  7.53578642e+01, -2.08965827e+02,\n",
       "        8.81618743e+01,  1.72470836e+02, -1.25045078e+02, -3.74027912e+01,\n",
       "       -4.22708740e+01,  2.64105474e+01, -1.01373542e+02,  5.57764663e+01,\n",
       "       -1.68366558e+02, -6.80289491e+01,  1.08011082e+02, -5.96173104e+01,\n",
       "        1.76991361e+01,  8.52795232e+01,  1.29030027e+01, -1.93789357e+02,\n",
       "        1.00111263e+02, -7.67476023e+01,  4.26585436e+01, -1.67742433e+02,\n",
       "       -2.03276609e+02,  2.93676508e+01, -2.42080388e+02,  2.77427986e+02,\n",
       "       -1.46946716e+02, -3.21801886e+01,  1.40443536e+02, -1.37796906e+02,\n",
       "       -1.75075735e+02,  9.00459299e+00,  7.27313066e+01,  1.26437782e+02,\n",
       "        5.14528414e+01, -2.94787108e+02,  3.75288743e+01, -1.91837568e+00,\n",
       "        4.02373899e+01, -4.16447447e+01,  1.41874558e+02,  2.28507271e+02,\n",
       "       -5.22429342e+01, -3.00343703e+02, -7.96370187e+01,  1.47865646e+02,\n",
       "       -1.04399196e+01, -1.61079410e+02,  1.12049675e+02, -6.24999844e+00,\n",
       "        4.96808420e+01, -7.08157791e+01,  1.17279086e+02, -1.50717757e+02,\n",
       "       -1.08434198e+02, -4.13191771e+01,  5.74642109e+01,  2.80935384e+02,\n",
       "       -1.06101867e+01,  9.45451412e+01,  1.90084493e+02, -1.61884407e+02,\n",
       "        5.72738990e+01,  7.02328614e+01,  1.97856217e+02, -8.99467417e+01,\n",
       "        1.53907297e+01, -1.89866729e+02,  2.07972614e+02,  1.53432369e+02,\n",
       "       -3.23448638e+01,  1.38671412e+02, -1.81589682e+02,  1.48618474e+02,\n",
       "       -1.46930498e+02,  8.52103747e+01, -3.01437353e+01, -2.10115502e+02,\n",
       "        1.01329875e+02, -1.33683965e+02,  1.41426266e+02, -1.22743776e+02,\n",
       "        1.35209783e+02,  7.50480575e+01,  4.68072972e+01,  3.49398582e+01,\n",
       "       -3.14795205e+02,  5.63047428e+01,  4.28088544e+01,  1.51832555e+02,\n",
       "        1.66754632e+02, -1.89315042e+02, -1.10090100e+02,  1.29851263e+02,\n",
       "       -1.35566426e+02,  5.08231027e+00,  1.92155205e+02, -1.19535990e+02,\n",
       "       -1.73464709e+02,  1.02363610e+01, -1.32759705e+01,  8.89766064e+01,\n",
       "        1.17962361e+02,  4.70892807e-01, -1.47079165e+02, -9.99482608e+01,\n",
       "        3.24954010e+01,  3.64221424e+01,  1.41181895e+02, -5.46656886e+01,\n",
       "        1.84697870e+02, -1.57782907e+02,  1.82051228e+02, -1.09759248e+02,\n",
       "       -2.08688337e+02,  2.27572453e+01, -9.39370166e+00,  1.68611548e+02,\n",
       "        1.23617596e+02, -7.43468828e+01,  1.15945568e+02, -1.59529649e+02,\n",
       "        6.99128451e+01, -1.18717462e+02,  1.69693398e+02,  2.40334074e+02,\n",
       "       -4.35262923e+01,  1.35433115e+01, -1.13137735e+02, -1.23104714e+02,\n",
       "       -8.10546242e+01,  1.24645464e+01, -1.49416178e+02, -6.29919063e+01,\n",
       "       -3.45378772e+01, -6.85526526e+01,  1.67279863e+02,  2.12237432e+02,\n",
       "        2.18509244e+02,  1.26610223e+02,  7.71774638e+01, -1.13634299e+01,\n",
       "        3.62420408e+01, -4.91305719e+01,  6.98508219e+01, -1.03563396e+02,\n",
       "       -1.13557155e+02,  1.05197544e+02,  2.90440378e+01,  3.02028503e+02,\n",
       "        1.12416489e+02,  1.43669263e+01,  4.87353518e+01, -9.64154488e+01,\n",
       "        2.57872962e+02, -2.68749301e+01, -6.24578117e+01, -3.57208565e+01,\n",
       "       -4.13525844e+02, -1.17002044e+02,  9.38996894e+01,  3.04051098e+01,\n",
       "       -1.06509400e+02,  2.91960507e+02, -1.08078758e+02,  1.53075901e+02,\n",
       "        5.42867389e+01,  1.20927967e+02, -1.98067267e+01,  1.33113094e+02,\n",
       "        1.00666942e+02, -4.41974871e+01,  7.95901817e+01, -1.12265514e+02,\n",
       "        6.95801468e+01, -1.74852575e+02, -1.00739225e+02,  1.27153344e+02,\n",
       "       -8.41637364e+01, -6.31208723e+01,  2.08515122e+00, -3.67555803e+01,\n",
       "       -2.07698503e+02,  1.02708560e+02,  2.73516755e+02, -1.48952631e+00,\n",
       "       -1.85092405e+01,  9.64617078e+01, -4.02701707e+01, -1.01257965e+02,\n",
       "        4.03024691e+01, -1.28629958e+01,  4.24408424e+01, -1.57265407e+02,\n",
       "        9.73625231e+00, -2.00385606e+01, -1.81442494e+02,  7.04453915e+01,\n",
       "        5.24879132e+01, -1.25449396e+02, -2.78639892e+02,  2.91528245e+02,\n",
       "        2.49693372e+01, -1.38005484e+02, -1.25866165e+01, -1.56257668e+02,\n",
       "       -3.88697208e+00, -8.40919307e+01,  1.24531561e+01,  7.87657935e+01,\n",
       "       -5.60580641e+01,  9.89157045e+00,  4.03718014e+01, -1.91566036e+02,\n",
       "        8.59524336e+01, -8.00339744e+01,  4.70519581e+01,  8.89250661e+00,\n",
       "        5.02178734e+01,  2.02956601e+02, -7.94343633e+01, -1.47085971e+02,\n",
       "       -9.91637518e+01,  9.37555756e+01,  1.33813006e+02, -1.46259147e+02,\n",
       "       -8.24309457e+01,  2.62526766e+01, -8.70893422e+01,  1.53033168e+02,\n",
       "        4.41170836e+01, -1.94286761e+02, -8.37576775e+01,  2.08570980e+01,\n",
       "        6.59734423e+01,  4.13795543e+01,  1.57980942e+02,  7.33929621e+01,\n",
       "       -9.80554114e+01,  3.52685088e+01,  8.48025375e+01, -1.21630449e+02,\n",
       "        4.60265616e+01,  3.64165051e+01, -1.82232386e+02,  1.88667865e+02,\n",
       "       -7.70971406e+01,  1.40305008e+02,  2.53154858e+01,  5.18442552e+01,\n",
       "        3.07928840e+01, -5.53571863e+01, -1.78270290e+02, -6.83078193e+01,\n",
       "        1.01376780e+01,  3.69869371e+01, -4.85261236e+01, -7.74308270e+01,\n",
       "       -2.52905737e+01, -6.78518840e+01,  5.41917619e+00,  1.05287533e+01,\n",
       "        6.82853287e+01,  2.07847751e+01,  2.48255826e+02, -8.94008319e-01,\n",
       "       -4.63204768e+01, -7.21617043e+01,  3.74062626e+01, -1.96704586e+02,\n",
       "       -1.29199626e+02,  3.80962556e+01, -1.56915779e+00, -4.93647654e+01,\n",
       "        2.76918098e+02,  3.66919908e+01, -3.60919738e+01,  1.34631412e+01,\n",
       "       -8.67988264e+01, -1.89414356e+02, -5.42730244e+01, -3.69993743e+01,\n",
       "       -2.36253512e+02,  1.66847198e+02,  3.96524978e+01, -1.88940986e+02,\n",
       "        8.20000378e+00, -1.88995317e+01, -2.09904075e+02, -1.18465105e+01,\n",
       "        1.18506520e+02,  1.53267088e+02,  5.91523822e+01,  1.95972167e+02,\n",
       "        9.50665879e+01,  1.20461258e+02, -1.24553051e+02,  1.15832699e+01,\n",
       "       -1.55186136e+02, -4.68103063e+01, -1.92253323e+02,  6.45854064e+01,\n",
       "       -1.61285707e+02, -7.07039227e+01, -3.62003757e+01, -2.37220995e+01,\n",
       "       -9.28253077e+01, -1.49550569e+01, -4.33206570e+00,  3.14395225e+01,\n",
       "       -1.03812613e+02,  1.33681907e+01,  1.02743262e+02,  1.66961154e+01,\n",
       "       -1.84364090e+02,  1.28304547e+02, -3.07678156e+01, -2.04785730e+01,\n",
       "        6.95010348e+01, -7.31578802e+01,  1.90555448e+01,  6.93115022e+01,\n",
       "       -1.21200777e+01,  3.19513693e+00,  1.67742391e+02, -3.17266300e+01,\n",
       "        1.40789909e+01, -1.76551286e+02,  1.11867622e+02, -1.07276545e+02,\n",
       "       -1.60232410e+01, -1.51610542e+02,  9.48832422e+00,  3.54064362e+01,\n",
       "       -5.65234073e+01,  6.06354243e+01, -1.42304059e+02, -1.41313392e+02,\n",
       "       -1.05084119e+02, -6.97160200e+01,  2.57642224e+01, -2.79143085e+02,\n",
       "       -7.45550914e+01,  1.24498458e+02, -3.95644761e+01, -4.74853764e-01,\n",
       "        7.80986032e+01,  4.97892918e+01, -6.50216705e+01,  3.57416734e+00,\n",
       "        1.01994342e+02,  8.64718637e+01, -5.59826491e+01, -2.09897653e+02,\n",
       "        1.24482174e+02, -7.47856209e+01, -3.65670146e+01, -3.53615067e+01,\n",
       "       -1.06063741e+02, -1.89995429e+01, -1.20556713e+02,  5.08951198e+01,\n",
       "       -1.26915507e+02,  8.83116364e+01, -1.34066079e+02,  4.61682970e+01,\n",
       "       -1.11549025e+02, -4.01748738e+01,  7.41951185e+01, -2.79515104e+02,\n",
       "       -5.48551115e+01,  1.22143461e+02,  1.51226591e+02,  1.12651044e+02,\n",
       "       -1.29656913e+02,  2.66496790e+01, -2.13166028e+00,  8.36434047e+01,\n",
       "        2.32976421e+02,  3.86286623e+01,  1.81559474e+02,  3.53830153e+00,\n",
       "       -3.67978072e+01,  2.35037476e+02,  2.29877225e+02,  6.47182974e+01,\n",
       "       -2.51027452e+01, -3.61105573e+01,  5.36641168e+01,  8.97939618e+01,\n",
       "        2.69312735e+02, -8.75615417e+00,  1.75290458e+02, -1.55688148e+02,\n",
       "       -1.12519141e+02, -1.69008560e+02,  3.22362252e+00,  9.28975962e+00,\n",
       "       -5.60629344e+00, -2.24734056e+01,  9.79082151e+01, -9.22282643e+01,\n",
       "       -1.62866241e+01, -6.38002767e+01,  2.54175466e+01, -4.66745134e+01,\n",
       "        1.08400175e+02, -2.01069898e+02, -6.64794771e+01, -7.19384908e+01,\n",
       "       -9.21880769e+01, -1.36230923e+02, -1.74414513e+01,  2.74078224e+02,\n",
       "       -6.32245494e+01,  1.83016811e+01, -6.26067198e+00, -7.49178333e+00,\n",
       "       -6.89907019e+00,  3.42347657e+01,  1.22973072e+02,  1.57181124e+02,\n",
       "       -1.71689006e+01,  2.95914718e+01,  4.99085145e+01, -5.16604283e+00,\n",
       "        4.83020315e+01,  9.50635254e+01,  1.04712414e+02, -1.66392500e+02,\n",
       "        1.69650426e+02,  1.88902602e+02,  1.99172312e+00,  6.65406583e+01,\n",
       "        2.54515475e+02, -1.75472959e+02,  8.54462399e+01,  7.08848463e+01,\n",
       "       -6.04901756e+01,  1.43253801e+02, -1.41066298e+02,  1.02106316e+02,\n",
       "       -8.41619382e+01, -8.18176456e+01, -4.47241177e+01,  3.75335460e+01,\n",
       "        4.22348445e+01,  1.79291127e+02,  1.92805836e+01, -1.58529229e+02,\n",
       "       -5.54130113e+00,  5.88903073e+01, -5.25073908e+01, -1.05838920e+02,\n",
       "        1.78497387e+02, -4.60958217e+01,  1.11987440e+02, -1.51099354e+02,\n",
       "        9.44180730e+01,  1.39485108e+02, -3.16144061e+01,  9.27274556e+01,\n",
       "        2.63107807e-02,  2.91563721e+02,  1.10824240e+02, -2.52192373e+01,\n",
       "        9.69375275e+01,  3.83282588e+01, -4.38979351e+01,  7.54731942e+01,\n",
       "       -1.06612790e+01,  2.63237835e+02,  2.19662273e+02,  1.20884475e+02,\n",
       "        7.99736406e+01,  4.47022486e+01,  1.44469416e+02,  8.50979941e+01,\n",
       "        1.55970675e+02,  1.08457219e+02, -2.78460833e+01,  8.88049087e+01,\n",
       "        1.94503572e+01,  9.95524174e+01,  6.47562758e+01,  1.85392906e+02,\n",
       "        8.65446531e+01,  1.41357684e+01,  1.21312649e+01,  2.34206281e+02,\n",
       "        2.40715614e+02,  7.36666064e+01,  1.58377837e+02,  2.61521694e+01,\n",
       "        1.19067601e+02, -2.07761095e+01,  1.01224644e+01, -1.47092886e+01,\n",
       "        9.92929141e+01, -5.61734329e+01,  1.69622365e+02,  1.99138148e+01,\n",
       "       -1.13186038e+02, -4.78132754e+01, -1.17822098e+02, -7.58577125e+01,\n",
       "        2.12427596e+01,  1.38113721e+02,  2.64756286e+01,  1.11940361e+02,\n",
       "       -1.40590070e+02,  2.26541136e+02, -4.90229585e+01, -2.12529532e+02,\n",
       "        6.26185970e+01, -9.08939099e+01,  5.51173898e+01,  9.44436205e+01,\n",
       "       -1.70407062e+02, -1.10604811e+02, -4.87479057e+01,  2.13562789e+02,\n",
       "       -1.93472221e+01, -3.14443482e+01, -1.02869974e+01,  1.01617093e+02])"
      ]
     },
     "execution_count": 6,
     "metadata": {},
     "output_type": "execute_result"
    }
   ],
   "source": [
    "y"
   ]
  },
  {
   "cell_type": "code",
   "execution_count": 10,
   "id": "826759c4",
   "metadata": {},
   "outputs": [
    {
     "data": {
      "text/plain": [
       "((800, 4), (200, 4), (800,), (200,))"
      ]
     },
     "execution_count": 10,
     "metadata": {},
     "output_type": "execute_result"
    }
   ],
   "source": [
    "X_train, X_test, y_train, y_test = train_test_split(X,y,test_size=0.20,random_state=42, shuffle=True, stratify=None)\n",
    "X_train.shape, X_test.shape, y_train.shape, y_test.shape"
   ]
  },
  {
   "cell_type": "code",
   "execution_count": 11,
   "id": "f53a239c",
   "metadata": {},
   "outputs": [
    {
     "data": {
      "text/plain": [
       "array([-1.61079410e+02,  2.07847751e+01, -4.63204768e+01, -1.85092405e+01,\n",
       "       -1.29237193e+02, -1.25866165e+01,  4.87353518e+01, -4.16447447e+01,\n",
       "        6.47182974e+01,  2.00121355e+02, -1.41313392e+02, -2.34602993e+02,\n",
       "       -1.06509400e+02, -5.61734329e+01,  1.10824240e+02, -5.16604283e+00,\n",
       "        9.16690054e+01, -7.19384908e+01, -1.88995317e+01, -9.34197379e+01,\n",
       "        8.52103747e+01, -6.03779128e+01, -1.48464493e+01, -1.50717757e+02,\n",
       "        7.03338729e+01, -1.52062373e+02, -4.44859848e+01, -4.90229585e+01,\n",
       "        1.04712414e+02,  1.20884475e+02, -1.50152333e+02, -2.93067334e+01,\n",
       "        1.05197544e+02,  2.77427986e+02,  5.60882319e+01, -7.53095458e+01,\n",
       "       -1.91566036e+02,  1.84697870e+02,  9.50635254e+01,  1.43508450e+02,\n",
       "        4.79713029e+01, -6.09610096e+01, -7.09923770e+00,  1.69622365e+02,\n",
       "       -2.26051994e+01, -7.09291972e+01, -5.54130113e+00,  1.35433115e+01,\n",
       "       -3.63017001e+01,  8.83116364e+01,  1.92155205e+02, -4.66745134e+01,\n",
       "        8.46278320e+01, -1.47079165e+02,  9.62900030e+01, -8.21875878e+01,\n",
       "       -4.91305719e+01,  6.19136259e+01,  4.84674308e+00,  7.80986032e+01,\n",
       "        2.46528435e+01,  1.91668163e+02,  2.07972614e+02, -3.05545090e+02,\n",
       "       -8.10546242e+01,  5.02178734e+01, -4.02701707e+01,  1.75290458e+02,\n",
       "        5.96123788e+01,  1.53432369e+02, -6.94065737e+01, -7.67476023e+01,\n",
       "       -9.39370166e+00, -7.21617043e+01,  3.06203591e+01,  1.02610779e+02,\n",
       "       -8.41637364e+01,  6.37626970e+01,  2.27572453e+01,  1.29832095e+02,\n",
       "       -1.56257668e+02, -2.66666878e+01,  1.13739415e+02, -1.57241938e+02,\n",
       "       -2.56278183e+01, -1.46930498e+02, -1.02869974e+01,  8.48025375e+01,\n",
       "       -1.89414356e+02, -1.50918740e+01, -1.96908393e+02, -1.69287448e+02,\n",
       "        1.12049675e+02, -6.41269016e+01,  1.66961154e+01,  1.30400040e+01,\n",
       "        1.18506520e+02,  1.91926214e+02,  4.18063652e+00, -5.59826491e+01,\n",
       "        4.60265616e+01,  1.54064795e+02,  2.63107807e-02, -2.00644970e+02,\n",
       "        3.04051098e+01,  1.00666942e+02,  1.41426266e+02,  1.85392906e+02,\n",
       "        6.19174758e+01, -8.18176456e+01, -1.08434198e+02,  3.57416734e+00,\n",
       "        2.26541136e+02, -7.45550914e+01,  7.13275421e+00, -1.68307361e+02,\n",
       "       -8.74980326e+01, -1.17822098e+02,  1.90084493e+02, -7.82941965e+01,\n",
       "       -6.89907019e+00, -9.32274199e+01,  3.52685088e+01,  1.31568331e+02,\n",
       "       -3.73306069e+01,  3.49398582e+01, -5.46656886e+01, -9.26724958e+00,\n",
       "       -1.55688148e+02,  1.40789909e+01,  2.40334074e+02,  2.66496790e+01,\n",
       "        3.04869104e+01,  2.13562789e+02, -4.13191771e+01,  2.85700855e+01,\n",
       "        2.50122691e+01,  8.03436875e+00, -2.21635293e+00, -5.07911168e+01,\n",
       "       -3.29602881e+02,  1.19528780e+01,  1.40305008e+02,  1.81997470e+02,\n",
       "        3.42347657e+01, -1.41066298e+02, -1.42304059e+02,  4.96103979e+00,\n",
       "       -6.50216705e+01, -1.97187332e+02,  1.33113094e+02, -1.05751057e+02,\n",
       "       -4.78132754e+01, -5.55006712e+01,  3.83282588e+01,  2.66133598e+01,\n",
       "        1.54999269e+01,  9.37555756e+01,  3.77219150e+01, -9.21880769e+01,\n",
       "       -1.59529649e+02,  1.95972167e+02, -1.74852575e+02, -1.00739225e+02,\n",
       "       -8.75615417e+00,  9.73625231e+00, -2.12385748e+01, -8.00339744e+01,\n",
       "        8.37592448e+01,  7.78131597e+01, -3.86062188e+00, -3.74027912e+01,\n",
       "       -2.97433784e+01, -9.08939099e+01,  1.08011082e+02, -7.94141444e+01,\n",
       "        2.18755302e+01, -4.83044698e+01,  1.11867622e+02, -1.38005484e+02,\n",
       "        4.26585436e+01, -1.81442494e+02, -1.57127197e+02,  1.17279086e+02,\n",
       "        1.22143461e+02,  1.20473857e+01, -2.36176508e+02,  8.34461710e+01,\n",
       "       -4.38979351e+01,  3.66919908e+01,  7.99736406e+01, -7.47856209e+01,\n",
       "       -2.07698503e+02,  9.91921007e+01,  8.56944263e+01, -1.87055667e+02,\n",
       "        9.84651556e+01,  1.00551913e+02,  1.26610223e+02,  2.31478034e+01])"
      ]
     },
     "execution_count": 11,
     "metadata": {},
     "output_type": "execute_result"
    }
   ],
   "source": [
    "y_test"
   ]
  },
  {
   "cell_type": "code",
   "execution_count": 12,
   "id": "4d053155",
   "metadata": {},
   "outputs": [],
   "source": [
    "from sklearn.neighbors import KNeighborsClassifier "
   ]
  },
  {
   "cell_type": "code",
   "execution_count": 13,
   "id": "e24c67bc",
   "metadata": {},
   "outputs": [],
   "source": [
    "from sklearn.neighbors import KNeighborsRegressor"
   ]
  },
  {
   "cell_type": "code",
   "execution_count": 14,
   "id": "5e29388f",
   "metadata": {},
   "outputs": [],
   "source": [
    "regressor = KNeighborsRegressor()"
   ]
  },
  {
   "cell_type": "code",
   "execution_count": 15,
   "id": "9466a2c4",
   "metadata": {},
   "outputs": [
    {
     "data": {
      "text/html": [
       "<style>#sk-container-id-1 {color: black;}#sk-container-id-1 pre{padding: 0;}#sk-container-id-1 div.sk-toggleable {background-color: white;}#sk-container-id-1 label.sk-toggleable__label {cursor: pointer;display: block;width: 100%;margin-bottom: 0;padding: 0.3em;box-sizing: border-box;text-align: center;}#sk-container-id-1 label.sk-toggleable__label-arrow:before {content: \"▸\";float: left;margin-right: 0.25em;color: #696969;}#sk-container-id-1 label.sk-toggleable__label-arrow:hover:before {color: black;}#sk-container-id-1 div.sk-estimator:hover label.sk-toggleable__label-arrow:before {color: black;}#sk-container-id-1 div.sk-toggleable__content {max-height: 0;max-width: 0;overflow: hidden;text-align: left;background-color: #f0f8ff;}#sk-container-id-1 div.sk-toggleable__content pre {margin: 0.2em;color: black;border-radius: 0.25em;background-color: #f0f8ff;}#sk-container-id-1 input.sk-toggleable__control:checked~div.sk-toggleable__content {max-height: 200px;max-width: 100%;overflow: auto;}#sk-container-id-1 input.sk-toggleable__control:checked~label.sk-toggleable__label-arrow:before {content: \"▾\";}#sk-container-id-1 div.sk-estimator input.sk-toggleable__control:checked~label.sk-toggleable__label {background-color: #d4ebff;}#sk-container-id-1 div.sk-label input.sk-toggleable__control:checked~label.sk-toggleable__label {background-color: #d4ebff;}#sk-container-id-1 input.sk-hidden--visually {border: 0;clip: rect(1px 1px 1px 1px);clip: rect(1px, 1px, 1px, 1px);height: 1px;margin: -1px;overflow: hidden;padding: 0;position: absolute;width: 1px;}#sk-container-id-1 div.sk-estimator {font-family: monospace;background-color: #f0f8ff;border: 1px dotted black;border-radius: 0.25em;box-sizing: border-box;margin-bottom: 0.5em;}#sk-container-id-1 div.sk-estimator:hover {background-color: #d4ebff;}#sk-container-id-1 div.sk-parallel-item::after {content: \"\";width: 100%;border-bottom: 1px solid gray;flex-grow: 1;}#sk-container-id-1 div.sk-label:hover label.sk-toggleable__label {background-color: #d4ebff;}#sk-container-id-1 div.sk-serial::before {content: \"\";position: absolute;border-left: 1px solid gray;box-sizing: border-box;top: 0;bottom: 0;left: 50%;z-index: 0;}#sk-container-id-1 div.sk-serial {display: flex;flex-direction: column;align-items: center;background-color: white;padding-right: 0.2em;padding-left: 0.2em;position: relative;}#sk-container-id-1 div.sk-item {position: relative;z-index: 1;}#sk-container-id-1 div.sk-parallel {display: flex;align-items: stretch;justify-content: center;background-color: white;position: relative;}#sk-container-id-1 div.sk-item::before, #sk-container-id-1 div.sk-parallel-item::before {content: \"\";position: absolute;border-left: 1px solid gray;box-sizing: border-box;top: 0;bottom: 0;left: 50%;z-index: -1;}#sk-container-id-1 div.sk-parallel-item {display: flex;flex-direction: column;z-index: 1;position: relative;background-color: white;}#sk-container-id-1 div.sk-parallel-item:first-child::after {align-self: flex-end;width: 50%;}#sk-container-id-1 div.sk-parallel-item:last-child::after {align-self: flex-start;width: 50%;}#sk-container-id-1 div.sk-parallel-item:only-child::after {width: 0;}#sk-container-id-1 div.sk-dashed-wrapped {border: 1px dashed gray;margin: 0 0.4em 0.5em 0.4em;box-sizing: border-box;padding-bottom: 0.4em;background-color: white;}#sk-container-id-1 div.sk-label label {font-family: monospace;font-weight: bold;display: inline-block;line-height: 1.2em;}#sk-container-id-1 div.sk-label-container {text-align: center;}#sk-container-id-1 div.sk-container {/* jupyter's `normalize.less` sets `[hidden] { display: none; }` but bootstrap.min.css set `[hidden] { display: none !important; }` so we also need the `!important` here to be able to override the default hidden behavior on the sphinx rendered scikit-learn.org. See: https://github.com/scikit-learn/scikit-learn/issues/21755 */display: inline-block !important;position: relative;}#sk-container-id-1 div.sk-text-repr-fallback {display: none;}</style><div id=\"sk-container-id-1\" class=\"sk-top-container\"><div class=\"sk-text-repr-fallback\"><pre>KNeighborsRegressor()</pre><b>In a Jupyter environment, please rerun this cell to show the HTML representation or trust the notebook. <br />On GitHub, the HTML representation is unable to render, please try loading this page with nbviewer.org.</b></div><div class=\"sk-container\" hidden><div class=\"sk-item\"><div class=\"sk-estimator sk-toggleable\"><input class=\"sk-toggleable__control sk-hidden--visually\" id=\"sk-estimator-id-1\" type=\"checkbox\" checked><label for=\"sk-estimator-id-1\" class=\"sk-toggleable__label sk-toggleable__label-arrow\">KNeighborsRegressor</label><div class=\"sk-toggleable__content\"><pre>KNeighborsRegressor()</pre></div></div></div></div></div>"
      ],
      "text/plain": [
       "KNeighborsRegressor()"
      ]
     },
     "execution_count": 15,
     "metadata": {},
     "output_type": "execute_result"
    }
   ],
   "source": [
    "regressor.fit(X_train, y_train)"
   ]
  },
  {
   "cell_type": "code",
   "execution_count": 19,
   "id": "5606abe4",
   "metadata": {},
   "outputs": [],
   "source": [
    "y_hat = regressor.predict(X_test)"
   ]
  },
  {
   "cell_type": "code",
   "execution_count": 20,
   "id": "0ab94289",
   "metadata": {},
   "outputs": [],
   "source": [
    "from sklearn.metrics import r2_score, mean_absolute_error, mean_squared_error"
   ]
  },
  {
   "cell_type": "code",
   "execution_count": 21,
   "id": "e6d0eb3a",
   "metadata": {},
   "outputs": [
    {
     "data": {
      "text/plain": [
       "0.9549666070457093"
      ]
     },
     "execution_count": 21,
     "metadata": {},
     "output_type": "execute_result"
    }
   ],
   "source": [
    "r2_score(y_test, y_hat)"
   ]
  },
  {
   "cell_type": "code",
   "execution_count": 22,
   "id": "93498296",
   "metadata": {},
   "outputs": [
    {
     "data": {
      "text/plain": [
       "562.9269354510216"
      ]
     },
     "execution_count": 22,
     "metadata": {},
     "output_type": "execute_result"
    }
   ],
   "source": [
    "## \n",
    "mean_squared_error(y_test, y_hat)"
   ]
  },
  {
   "cell_type": "code",
   "execution_count": 23,
   "id": "4f1204a7",
   "metadata": {},
   "outputs": [
    {
     "data": {
      "text/plain": [
       "17.148717640868394"
      ]
     },
     "execution_count": 23,
     "metadata": {},
     "output_type": "execute_result"
    }
   ],
   "source": [
    "## \n",
    "mean_absolute_error(y_test, y_hat)"
   ]
  },
  {
   "cell_type": "code",
   "execution_count": 24,
   "id": "190e9a81",
   "metadata": {},
   "outputs": [],
   "source": [
    "##"
   ]
  },
  {
   "cell_type": "code",
   "execution_count": 25,
   "id": "5742dc47",
   "metadata": {},
   "outputs": [],
   "source": [
    "# KD Tree"
   ]
  },
  {
   "cell_type": "code",
   "execution_count": 26,
   "id": "a130ebac",
   "metadata": {},
   "outputs": [],
   "source": [
    "from sklearn.neighbors import KNeighborsRegressor"
   ]
  },
  {
   "cell_type": "code",
   "execution_count": 27,
   "id": "a431f3c2",
   "metadata": {},
   "outputs": [
    {
     "data": {
      "text/html": [
       "<style>#sk-container-id-2 {color: black;}#sk-container-id-2 pre{padding: 0;}#sk-container-id-2 div.sk-toggleable {background-color: white;}#sk-container-id-2 label.sk-toggleable__label {cursor: pointer;display: block;width: 100%;margin-bottom: 0;padding: 0.3em;box-sizing: border-box;text-align: center;}#sk-container-id-2 label.sk-toggleable__label-arrow:before {content: \"▸\";float: left;margin-right: 0.25em;color: #696969;}#sk-container-id-2 label.sk-toggleable__label-arrow:hover:before {color: black;}#sk-container-id-2 div.sk-estimator:hover label.sk-toggleable__label-arrow:before {color: black;}#sk-container-id-2 div.sk-toggleable__content {max-height: 0;max-width: 0;overflow: hidden;text-align: left;background-color: #f0f8ff;}#sk-container-id-2 div.sk-toggleable__content pre {margin: 0.2em;color: black;border-radius: 0.25em;background-color: #f0f8ff;}#sk-container-id-2 input.sk-toggleable__control:checked~div.sk-toggleable__content {max-height: 200px;max-width: 100%;overflow: auto;}#sk-container-id-2 input.sk-toggleable__control:checked~label.sk-toggleable__label-arrow:before {content: \"▾\";}#sk-container-id-2 div.sk-estimator input.sk-toggleable__control:checked~label.sk-toggleable__label {background-color: #d4ebff;}#sk-container-id-2 div.sk-label input.sk-toggleable__control:checked~label.sk-toggleable__label {background-color: #d4ebff;}#sk-container-id-2 input.sk-hidden--visually {border: 0;clip: rect(1px 1px 1px 1px);clip: rect(1px, 1px, 1px, 1px);height: 1px;margin: -1px;overflow: hidden;padding: 0;position: absolute;width: 1px;}#sk-container-id-2 div.sk-estimator {font-family: monospace;background-color: #f0f8ff;border: 1px dotted black;border-radius: 0.25em;box-sizing: border-box;margin-bottom: 0.5em;}#sk-container-id-2 div.sk-estimator:hover {background-color: #d4ebff;}#sk-container-id-2 div.sk-parallel-item::after {content: \"\";width: 100%;border-bottom: 1px solid gray;flex-grow: 1;}#sk-container-id-2 div.sk-label:hover label.sk-toggleable__label {background-color: #d4ebff;}#sk-container-id-2 div.sk-serial::before {content: \"\";position: absolute;border-left: 1px solid gray;box-sizing: border-box;top: 0;bottom: 0;left: 50%;z-index: 0;}#sk-container-id-2 div.sk-serial {display: flex;flex-direction: column;align-items: center;background-color: white;padding-right: 0.2em;padding-left: 0.2em;position: relative;}#sk-container-id-2 div.sk-item {position: relative;z-index: 1;}#sk-container-id-2 div.sk-parallel {display: flex;align-items: stretch;justify-content: center;background-color: white;position: relative;}#sk-container-id-2 div.sk-item::before, #sk-container-id-2 div.sk-parallel-item::before {content: \"\";position: absolute;border-left: 1px solid gray;box-sizing: border-box;top: 0;bottom: 0;left: 50%;z-index: -1;}#sk-container-id-2 div.sk-parallel-item {display: flex;flex-direction: column;z-index: 1;position: relative;background-color: white;}#sk-container-id-2 div.sk-parallel-item:first-child::after {align-self: flex-end;width: 50%;}#sk-container-id-2 div.sk-parallel-item:last-child::after {align-self: flex-start;width: 50%;}#sk-container-id-2 div.sk-parallel-item:only-child::after {width: 0;}#sk-container-id-2 div.sk-dashed-wrapped {border: 1px dashed gray;margin: 0 0.4em 0.5em 0.4em;box-sizing: border-box;padding-bottom: 0.4em;background-color: white;}#sk-container-id-2 div.sk-label label {font-family: monospace;font-weight: bold;display: inline-block;line-height: 1.2em;}#sk-container-id-2 div.sk-label-container {text-align: center;}#sk-container-id-2 div.sk-container {/* jupyter's `normalize.less` sets `[hidden] { display: none; }` but bootstrap.min.css set `[hidden] { display: none !important; }` so we also need the `!important` here to be able to override the default hidden behavior on the sphinx rendered scikit-learn.org. See: https://github.com/scikit-learn/scikit-learn/issues/21755 */display: inline-block !important;position: relative;}#sk-container-id-2 div.sk-text-repr-fallback {display: none;}</style><div id=\"sk-container-id-2\" class=\"sk-top-container\"><div class=\"sk-text-repr-fallback\"><pre>KNeighborsRegressor(algorithm=&#x27;kd_tree&#x27;, n_neighbors=8)</pre><b>In a Jupyter environment, please rerun this cell to show the HTML representation or trust the notebook. <br />On GitHub, the HTML representation is unable to render, please try loading this page with nbviewer.org.</b></div><div class=\"sk-container\" hidden><div class=\"sk-item\"><div class=\"sk-estimator sk-toggleable\"><input class=\"sk-toggleable__control sk-hidden--visually\" id=\"sk-estimator-id-2\" type=\"checkbox\" checked><label for=\"sk-estimator-id-2\" class=\"sk-toggleable__label sk-toggleable__label-arrow\">KNeighborsRegressor</label><div class=\"sk-toggleable__content\"><pre>KNeighborsRegressor(algorithm=&#x27;kd_tree&#x27;, n_neighbors=8)</pre></div></div></div></div></div>"
      ],
      "text/plain": [
       "KNeighborsRegressor(algorithm='kd_tree', n_neighbors=8)"
      ]
     },
     "execution_count": 27,
     "metadata": {},
     "output_type": "execute_result"
    }
   ],
   "source": [
    "regressor = KNeighborsRegressor(algorithm=\"kd_tree\",n_neighbors=8,weights=\"uniform\")\n",
    "regressor"
   ]
  },
  {
   "cell_type": "code",
   "execution_count": 28,
   "id": "a985a915",
   "metadata": {},
   "outputs": [
    {
     "data": {
      "text/html": [
       "<style>#sk-container-id-3 {color: black;}#sk-container-id-3 pre{padding: 0;}#sk-container-id-3 div.sk-toggleable {background-color: white;}#sk-container-id-3 label.sk-toggleable__label {cursor: pointer;display: block;width: 100%;margin-bottom: 0;padding: 0.3em;box-sizing: border-box;text-align: center;}#sk-container-id-3 label.sk-toggleable__label-arrow:before {content: \"▸\";float: left;margin-right: 0.25em;color: #696969;}#sk-container-id-3 label.sk-toggleable__label-arrow:hover:before {color: black;}#sk-container-id-3 div.sk-estimator:hover label.sk-toggleable__label-arrow:before {color: black;}#sk-container-id-3 div.sk-toggleable__content {max-height: 0;max-width: 0;overflow: hidden;text-align: left;background-color: #f0f8ff;}#sk-container-id-3 div.sk-toggleable__content pre {margin: 0.2em;color: black;border-radius: 0.25em;background-color: #f0f8ff;}#sk-container-id-3 input.sk-toggleable__control:checked~div.sk-toggleable__content {max-height: 200px;max-width: 100%;overflow: auto;}#sk-container-id-3 input.sk-toggleable__control:checked~label.sk-toggleable__label-arrow:before {content: \"▾\";}#sk-container-id-3 div.sk-estimator input.sk-toggleable__control:checked~label.sk-toggleable__label {background-color: #d4ebff;}#sk-container-id-3 div.sk-label input.sk-toggleable__control:checked~label.sk-toggleable__label {background-color: #d4ebff;}#sk-container-id-3 input.sk-hidden--visually {border: 0;clip: rect(1px 1px 1px 1px);clip: rect(1px, 1px, 1px, 1px);height: 1px;margin: -1px;overflow: hidden;padding: 0;position: absolute;width: 1px;}#sk-container-id-3 div.sk-estimator {font-family: monospace;background-color: #f0f8ff;border: 1px dotted black;border-radius: 0.25em;box-sizing: border-box;margin-bottom: 0.5em;}#sk-container-id-3 div.sk-estimator:hover {background-color: #d4ebff;}#sk-container-id-3 div.sk-parallel-item::after {content: \"\";width: 100%;border-bottom: 1px solid gray;flex-grow: 1;}#sk-container-id-3 div.sk-label:hover label.sk-toggleable__label {background-color: #d4ebff;}#sk-container-id-3 div.sk-serial::before {content: \"\";position: absolute;border-left: 1px solid gray;box-sizing: border-box;top: 0;bottom: 0;left: 50%;z-index: 0;}#sk-container-id-3 div.sk-serial {display: flex;flex-direction: column;align-items: center;background-color: white;padding-right: 0.2em;padding-left: 0.2em;position: relative;}#sk-container-id-3 div.sk-item {position: relative;z-index: 1;}#sk-container-id-3 div.sk-parallel {display: flex;align-items: stretch;justify-content: center;background-color: white;position: relative;}#sk-container-id-3 div.sk-item::before, #sk-container-id-3 div.sk-parallel-item::before {content: \"\";position: absolute;border-left: 1px solid gray;box-sizing: border-box;top: 0;bottom: 0;left: 50%;z-index: -1;}#sk-container-id-3 div.sk-parallel-item {display: flex;flex-direction: column;z-index: 1;position: relative;background-color: white;}#sk-container-id-3 div.sk-parallel-item:first-child::after {align-self: flex-end;width: 50%;}#sk-container-id-3 div.sk-parallel-item:last-child::after {align-self: flex-start;width: 50%;}#sk-container-id-3 div.sk-parallel-item:only-child::after {width: 0;}#sk-container-id-3 div.sk-dashed-wrapped {border: 1px dashed gray;margin: 0 0.4em 0.5em 0.4em;box-sizing: border-box;padding-bottom: 0.4em;background-color: white;}#sk-container-id-3 div.sk-label label {font-family: monospace;font-weight: bold;display: inline-block;line-height: 1.2em;}#sk-container-id-3 div.sk-label-container {text-align: center;}#sk-container-id-3 div.sk-container {/* jupyter's `normalize.less` sets `[hidden] { display: none; }` but bootstrap.min.css set `[hidden] { display: none !important; }` so we also need the `!important` here to be able to override the default hidden behavior on the sphinx rendered scikit-learn.org. See: https://github.com/scikit-learn/scikit-learn/issues/21755 */display: inline-block !important;position: relative;}#sk-container-id-3 div.sk-text-repr-fallback {display: none;}</style><div id=\"sk-container-id-3\" class=\"sk-top-container\"><div class=\"sk-text-repr-fallback\"><pre>KNeighborsRegressor(algorithm=&#x27;kd_tree&#x27;, n_neighbors=8)</pre><b>In a Jupyter environment, please rerun this cell to show the HTML representation or trust the notebook. <br />On GitHub, the HTML representation is unable to render, please try loading this page with nbviewer.org.</b></div><div class=\"sk-container\" hidden><div class=\"sk-item\"><div class=\"sk-estimator sk-toggleable\"><input class=\"sk-toggleable__control sk-hidden--visually\" id=\"sk-estimator-id-3\" type=\"checkbox\" checked><label for=\"sk-estimator-id-3\" class=\"sk-toggleable__label sk-toggleable__label-arrow\">KNeighborsRegressor</label><div class=\"sk-toggleable__content\"><pre>KNeighborsRegressor(algorithm=&#x27;kd_tree&#x27;, n_neighbors=8)</pre></div></div></div></div></div>"
      ],
      "text/plain": [
       "KNeighborsRegressor(algorithm='kd_tree', n_neighbors=8)"
      ]
     },
     "execution_count": 28,
     "metadata": {},
     "output_type": "execute_result"
    }
   ],
   "source": [
    "regressor.fit(X_train, y_train)"
   ]
  },
  {
   "cell_type": "code",
   "execution_count": 29,
   "id": "56644c15",
   "metadata": {},
   "outputs": [
    {
     "data": {
      "text/plain": [
       "array([-147.487729  ,   17.96733256,  -37.62155872,  -18.9301524 ,\n",
       "       -132.98816334,  -20.53405531,   28.68451508,  -22.35283855,\n",
       "         67.26487507,  156.47933411, -107.48024947, -196.50346237,\n",
       "       -116.03769263,  -42.51793397,   83.78612461,    3.82672966,\n",
       "         79.30992949,  -87.81822245,   -1.50435172, -104.05688215,\n",
       "         65.17742573,  -77.17836822,   12.12503104, -158.37629749,\n",
       "         75.40108824, -145.21695005,  -47.15231017,  -51.07840541,\n",
       "        125.95996754,  108.72616214, -113.37659837,  -22.13813919,\n",
       "         88.92283813,  220.48389136,    9.3942107 ,  -74.88664269,\n",
       "       -157.3941288 ,  158.45710354,   61.99353964,  149.07408146,\n",
       "         48.4874637 ,  -48.48859276,   -5.60724087,  159.5202664 ,\n",
       "        -26.49641819,  -87.79502381,   -9.37933549,   14.24596011,\n",
       "        -23.47851232,   66.64599179,  163.84616238,  -45.34320373,\n",
       "         76.21354533, -128.37485368,   72.32297266,  -23.97702449,\n",
       "        -45.85392538,   51.56246088,    8.3446369 ,   61.82277059,\n",
       "          9.69065974,  208.28142667,  175.95233849, -239.34646684,\n",
       "        -39.68971496,   55.33842432,  -42.0142789 ,  148.35420556,\n",
       "         55.32968281,  162.5205005 ,  -65.07349648,  -30.25782667,\n",
       "        -26.86313526,  -46.08681948,   21.92083292,   63.31811572,\n",
       "        -67.64338822,   50.44129809,   45.27601753,   87.20161833,\n",
       "       -110.24639735,  -32.11019532,   84.14736954, -138.7756971 ,\n",
       "        -12.30784232, -144.29788327,   -5.81114175,   85.32361118,\n",
       "       -118.96566496,  -27.27587944, -189.0783765 , -169.04701849,\n",
       "        100.65645556,  -42.93243164,    7.50397445,   18.24053113,\n",
       "         60.49842616,  153.60644281,   -9.74719413,  -57.31099443,\n",
       "         50.26594498,  134.45590382,    5.48246786, -121.55844804,\n",
       "         39.03760406,   79.03080222,  120.44336104,  165.68986785,\n",
       "         42.11103823,  -78.27859823, -113.65168251,    0.65392643,\n",
       "        230.37641206,  -77.14821186,   21.55858918, -168.01436402,\n",
       "        -88.44669763, -135.75886132,  194.54920762,  -70.90737461,\n",
       "          5.27090605, -101.41200182,   56.25128453,   90.90002716,\n",
       "         -8.46235001,   49.20954737,  -51.35096497,  -14.52471808,\n",
       "       -145.06355825,   35.72092857,  190.03020344,   23.18543473,\n",
       "         42.40519794,  149.36169804,  -50.05041045,   25.49779725,\n",
       "         37.63142995,    1.51064959,   16.36676654,  -48.28126823,\n",
       "       -191.2684033 ,   13.61024238,  124.64947677,  189.2791417 ,\n",
       "         35.15921168, -136.67047939,  -88.26163913,   -8.61545162,\n",
       "        -74.54710463, -185.29998871,  121.82194186,  -88.37396877,\n",
       "        -52.97089612,  -60.00528058,   39.79485476,   19.00145925,\n",
       "        -17.51373824,   78.22053887,   24.67727986,  -90.96380666,\n",
       "       -111.83232399,  182.63215336, -136.57441962,  -96.13901222,\n",
       "         -1.42807884,   24.96599577,  -13.21995622,  -79.10927994,\n",
       "         76.92141402,   85.91518523,  -10.01998495,  -25.16146583,\n",
       "        -26.2151994 , -107.69307623,  104.38454426,  -38.62761951,\n",
       "         10.44350915,  -37.04674931,   89.5109429 , -146.33605217,\n",
       "         39.87934547, -157.88806283, -131.91413749,  114.18963952,\n",
       "        107.15826552,    5.95705761, -209.94955263,   94.97160825,\n",
       "        -55.09738177,   43.5119209 ,   49.65975772,  -62.52935745,\n",
       "       -193.17096308,  112.40265572,   59.73967105, -165.81034957,\n",
       "         89.62464864,   89.72076481,  117.85702167,   12.10503407])"
      ]
     },
     "execution_count": 29,
     "metadata": {},
     "output_type": "execute_result"
    }
   ],
   "source": [
    "y_hat = regressor.predict(X_test)\n",
    "y_hat"
   ]
  },
  {
   "cell_type": "code",
   "execution_count": 30,
   "id": "ffc904ec",
   "metadata": {},
   "outputs": [
    {
     "data": {
      "text/plain": [
       "0.9539037914760039"
      ]
     },
     "execution_count": 30,
     "metadata": {},
     "output_type": "execute_result"
    }
   ],
   "source": [
    "r2_score(y_test, y_hat)"
   ]
  },
  {
   "cell_type": "code",
   "execution_count": null,
   "id": "e29ea6e6",
   "metadata": {},
   "outputs": [],
   "source": []
  },
  {
   "cell_type": "code",
   "execution_count": 31,
   "id": "b79d5ae5",
   "metadata": {},
   "outputs": [
    {
     "data": {
      "text/html": [
       "<style>#sk-container-id-4 {color: black;}#sk-container-id-4 pre{padding: 0;}#sk-container-id-4 div.sk-toggleable {background-color: white;}#sk-container-id-4 label.sk-toggleable__label {cursor: pointer;display: block;width: 100%;margin-bottom: 0;padding: 0.3em;box-sizing: border-box;text-align: center;}#sk-container-id-4 label.sk-toggleable__label-arrow:before {content: \"▸\";float: left;margin-right: 0.25em;color: #696969;}#sk-container-id-4 label.sk-toggleable__label-arrow:hover:before {color: black;}#sk-container-id-4 div.sk-estimator:hover label.sk-toggleable__label-arrow:before {color: black;}#sk-container-id-4 div.sk-toggleable__content {max-height: 0;max-width: 0;overflow: hidden;text-align: left;background-color: #f0f8ff;}#sk-container-id-4 div.sk-toggleable__content pre {margin: 0.2em;color: black;border-radius: 0.25em;background-color: #f0f8ff;}#sk-container-id-4 input.sk-toggleable__control:checked~div.sk-toggleable__content {max-height: 200px;max-width: 100%;overflow: auto;}#sk-container-id-4 input.sk-toggleable__control:checked~label.sk-toggleable__label-arrow:before {content: \"▾\";}#sk-container-id-4 div.sk-estimator input.sk-toggleable__control:checked~label.sk-toggleable__label {background-color: #d4ebff;}#sk-container-id-4 div.sk-label input.sk-toggleable__control:checked~label.sk-toggleable__label {background-color: #d4ebff;}#sk-container-id-4 input.sk-hidden--visually {border: 0;clip: rect(1px 1px 1px 1px);clip: rect(1px, 1px, 1px, 1px);height: 1px;margin: -1px;overflow: hidden;padding: 0;position: absolute;width: 1px;}#sk-container-id-4 div.sk-estimator {font-family: monospace;background-color: #f0f8ff;border: 1px dotted black;border-radius: 0.25em;box-sizing: border-box;margin-bottom: 0.5em;}#sk-container-id-4 div.sk-estimator:hover {background-color: #d4ebff;}#sk-container-id-4 div.sk-parallel-item::after {content: \"\";width: 100%;border-bottom: 1px solid gray;flex-grow: 1;}#sk-container-id-4 div.sk-label:hover label.sk-toggleable__label {background-color: #d4ebff;}#sk-container-id-4 div.sk-serial::before {content: \"\";position: absolute;border-left: 1px solid gray;box-sizing: border-box;top: 0;bottom: 0;left: 50%;z-index: 0;}#sk-container-id-4 div.sk-serial {display: flex;flex-direction: column;align-items: center;background-color: white;padding-right: 0.2em;padding-left: 0.2em;position: relative;}#sk-container-id-4 div.sk-item {position: relative;z-index: 1;}#sk-container-id-4 div.sk-parallel {display: flex;align-items: stretch;justify-content: center;background-color: white;position: relative;}#sk-container-id-4 div.sk-item::before, #sk-container-id-4 div.sk-parallel-item::before {content: \"\";position: absolute;border-left: 1px solid gray;box-sizing: border-box;top: 0;bottom: 0;left: 50%;z-index: -1;}#sk-container-id-4 div.sk-parallel-item {display: flex;flex-direction: column;z-index: 1;position: relative;background-color: white;}#sk-container-id-4 div.sk-parallel-item:first-child::after {align-self: flex-end;width: 50%;}#sk-container-id-4 div.sk-parallel-item:last-child::after {align-self: flex-start;width: 50%;}#sk-container-id-4 div.sk-parallel-item:only-child::after {width: 0;}#sk-container-id-4 div.sk-dashed-wrapped {border: 1px dashed gray;margin: 0 0.4em 0.5em 0.4em;box-sizing: border-box;padding-bottom: 0.4em;background-color: white;}#sk-container-id-4 div.sk-label label {font-family: monospace;font-weight: bold;display: inline-block;line-height: 1.2em;}#sk-container-id-4 div.sk-label-container {text-align: center;}#sk-container-id-4 div.sk-container {/* jupyter's `normalize.less` sets `[hidden] { display: none; }` but bootstrap.min.css set `[hidden] { display: none !important; }` so we also need the `!important` here to be able to override the default hidden behavior on the sphinx rendered scikit-learn.org. See: https://github.com/scikit-learn/scikit-learn/issues/21755 */display: inline-block !important;position: relative;}#sk-container-id-4 div.sk-text-repr-fallback {display: none;}</style><div id=\"sk-container-id-4\" class=\"sk-top-container\"><div class=\"sk-text-repr-fallback\"><pre>KNeighborsRegressor(algorithm=&#x27;ball_tree&#x27;, n_neighbors=8)</pre><b>In a Jupyter environment, please rerun this cell to show the HTML representation or trust the notebook. <br />On GitHub, the HTML representation is unable to render, please try loading this page with nbviewer.org.</b></div><div class=\"sk-container\" hidden><div class=\"sk-item\"><div class=\"sk-estimator sk-toggleable\"><input class=\"sk-toggleable__control sk-hidden--visually\" id=\"sk-estimator-id-4\" type=\"checkbox\" checked><label for=\"sk-estimator-id-4\" class=\"sk-toggleable__label sk-toggleable__label-arrow\">KNeighborsRegressor</label><div class=\"sk-toggleable__content\"><pre>KNeighborsRegressor(algorithm=&#x27;ball_tree&#x27;, n_neighbors=8)</pre></div></div></div></div></div>"
      ],
      "text/plain": [
       "KNeighborsRegressor(algorithm='ball_tree', n_neighbors=8)"
      ]
     },
     "execution_count": 31,
     "metadata": {},
     "output_type": "execute_result"
    }
   ],
   "source": [
    "regressor = KNeighborsRegressor(algorithm=\"ball_tree\",n_neighbors=8,weights=\"uniform\")\n",
    "regressor"
   ]
  },
  {
   "cell_type": "code",
   "execution_count": 32,
   "id": "51b1076d",
   "metadata": {},
   "outputs": [
    {
     "name": "stdout",
     "output_type": "stream",
     "text": [
      "0.9539037914760039\n"
     ]
    }
   ],
   "source": [
    "regressor.fit(X_train, y_train)\n",
    "y_pre = regressor.predict(X_test)\n",
    "print(r2_score(y_test, y_pre))"
   ]
  },
  {
   "cell_type": "code",
   "execution_count": null,
   "id": "f697e361",
   "metadata": {},
   "outputs": [],
   "source": []
  },
  {
   "cell_type": "code",
   "execution_count": null,
   "id": "e59373ae",
   "metadata": {},
   "outputs": [],
   "source": []
  },
  {
   "cell_type": "code",
   "execution_count": 33,
   "id": "8f7165e3",
   "metadata": {},
   "outputs": [],
   "source": [
    "from sklearn.datasets import make_classification"
   ]
  },
  {
   "cell_type": "code",
   "execution_count": 45,
   "id": "bc2c2dd4",
   "metadata": {},
   "outputs": [
    {
     "data": {
      "text/plain": [
       "(array([[-1.63506433,  0.50024047,  0.57796687, -2.81135109, -0.93227166,\n",
       "          2.01585107],\n",
       "        [-2.40737416, -0.05658849,  0.22930691,  0.17534959, -0.48056798,\n",
       "         -0.5449585 ],\n",
       "        [ 2.01490355, -0.67864306,  0.22986459, -2.74377831,  0.01578201,\n",
       "          2.44121985],\n",
       "        ...,\n",
       "        [-1.90573741, -2.21681884,  0.57327817, -2.69000223, -1.01532719,\n",
       "          1.91484825],\n",
       "        [ 0.91141304,  0.38831201, -0.21934886, -1.52943684, -1.20595095,\n",
       "          2.33074986],\n",
       "        [-1.09555267, -0.81301437,  0.85565742, -1.06506037,  1.39826584,\n",
       "         -0.90960332]]),\n",
       " array([2, 0, 2, 1, 1, 0, 2, 0, 1, 1, 1, 2, 2, 1, 1, 0, 0, 2, 2, 1, 1, 2,\n",
       "        1, 2, 0, 0, 0, 0, 1, 0, 0, 2, 2, 2, 2, 2, 0, 1, 2, 1, 2, 1, 2, 0,\n",
       "        1, 2, 0, 0, 2, 0, 0, 2, 0, 2, 0, 0, 0, 1, 0, 2, 1, 1, 2, 0, 1, 1,\n",
       "        0, 1, 1, 1, 0, 2, 1, 2, 2, 2, 1, 2, 0, 0, 2, 1, 2, 1, 0, 1, 0, 1,\n",
       "        2, 1, 2, 2, 0, 0, 1, 0, 1, 0, 0, 1, 1, 1, 1, 2, 2, 1, 1, 1, 2, 1,\n",
       "        0, 2, 0, 2, 2, 0, 0, 1, 1, 2, 0, 1, 2, 0, 0, 2, 2, 2, 0, 1, 0, 1,\n",
       "        0, 0, 2, 1, 0, 2, 0, 1, 2, 2, 2, 2, 0, 2, 0, 2, 1, 0, 2, 1, 2, 0,\n",
       "        0, 0, 1, 0, 1, 1, 2, 1, 0, 1, 0, 0, 2, 0, 0, 2, 2, 1, 1, 1, 1, 2,\n",
       "        1, 1, 0, 2, 1, 2, 0, 1, 2, 2, 1, 2, 0, 1, 0, 0, 1, 0, 1, 2, 1, 0,\n",
       "        0, 0, 2, 1, 0, 2, 1, 2, 2, 2, 2, 0, 0, 1, 0, 1, 1, 0, 1, 1, 0, 2,\n",
       "        2, 2, 2, 2, 2, 2, 2, 2, 1, 1, 0, 1, 2, 1, 0, 2, 2, 2, 0, 0, 1, 1,\n",
       "        0, 0, 0, 2, 0, 1, 2, 1, 1, 0, 0, 0, 0, 0, 0, 2, 2, 2, 2, 0, 0, 1,\n",
       "        1, 0, 2, 2, 1, 0, 2, 1, 2, 0, 1, 0, 2, 0, 2, 0, 0, 1, 1, 2, 1, 1,\n",
       "        1, 0, 1, 1, 0, 1, 2, 1, 2, 1, 0, 1, 2, 2, 2, 0, 2, 0, 1, 1, 0, 0,\n",
       "        0, 2, 1, 0, 1, 1, 1, 1, 2, 0, 2, 0, 2, 0, 1, 2, 0, 2, 2, 0, 2, 1,\n",
       "        2, 0, 1, 1, 2, 0, 1, 1, 0, 0, 0, 2, 0, 1, 1, 2, 2, 1, 0, 1, 1, 0,\n",
       "        1, 0, 2, 0, 2, 1, 0, 2, 0, 2, 2, 0, 1, 2, 2, 0, 0, 2, 1, 0, 1, 2,\n",
       "        2, 0, 1, 2, 0, 2, 2, 1, 2, 1, 0, 0, 0, 0, 0, 0, 1, 2, 1, 0, 2, 0,\n",
       "        2, 0, 2, 0, 2, 2, 0, 2, 2, 1, 2, 1, 1, 2, 0, 2, 0, 2, 0, 0, 2, 0,\n",
       "        1, 0, 2, 0, 2, 2, 2, 0, 2, 0, 0, 1, 1, 1, 2, 2, 1, 0, 2, 2, 0, 0,\n",
       "        0, 0, 1, 1, 2, 2, 0, 0, 0, 0, 0, 1, 0, 1, 0, 2, 0, 1, 0, 2, 1, 2,\n",
       "        2, 2, 2, 2, 2, 2, 0, 2, 2, 0, 0, 0, 2, 0, 0, 2, 1, 2, 2, 2, 0, 1,\n",
       "        0, 2, 1, 0, 2, 2, 0, 1, 1, 2, 2, 2, 2, 1, 1, 0, 0, 1, 1, 2, 2, 0,\n",
       "        1, 2, 0, 1, 1, 1, 0, 0, 0, 0, 0, 2, 1, 1, 2, 1, 0, 1, 2, 2, 1, 1,\n",
       "        1, 1, 2, 2, 0, 1, 1, 2, 1, 2, 1, 0, 0, 2, 0, 2, 0, 0, 0, 2, 1, 1,\n",
       "        0, 0, 2, 1, 0, 0, 1, 1, 1, 0, 2, 1, 1, 1, 0, 1, 0, 2, 1, 1, 0, 2,\n",
       "        1, 0, 2, 0, 0, 1, 1, 1, 1, 1, 2, 0, 2, 2, 2, 2, 1, 2, 1, 1, 0, 1,\n",
       "        0, 1, 1, 1, 0, 0, 0, 1, 0, 1, 0, 0, 0, 0, 1, 1, 0, 2, 2, 0, 2, 2,\n",
       "        0, 1, 1, 2, 1, 0, 0, 1, 2, 0, 1, 0, 0, 0, 0, 1, 2, 2, 0, 2, 1, 2,\n",
       "        2, 1, 0, 0, 0, 0, 1, 0, 2, 0, 1, 0, 2, 1, 1, 0, 2, 2, 2, 0, 0, 2,\n",
       "        2, 1, 2, 2, 1, 2, 1, 2, 1, 1, 2, 0, 1, 0, 0, 2, 2, 2, 1, 0, 0, 2,\n",
       "        2, 1, 2, 0, 1, 2, 1, 1, 2, 0, 2, 2, 1, 2, 0, 0, 0, 2, 0, 1, 1, 1,\n",
       "        2, 1, 1, 2, 0, 2, 1, 1, 1, 0, 0, 0, 2, 2, 1, 2, 1, 0, 1, 0, 2, 1,\n",
       "        2, 0, 1, 0, 0, 2, 1, 2, 0, 0, 1, 0, 2, 1, 0, 1, 0, 1, 1, 0, 1, 1,\n",
       "        1, 0, 1, 2, 2, 1, 2, 2, 0, 2, 0, 0, 1, 0, 1, 0, 0, 1, 2, 1, 1, 0,\n",
       "        2, 1, 0, 0, 1, 0, 0, 2, 2, 2, 1, 1, 2, 1, 1, 2, 1, 2, 1, 1, 2, 2,\n",
       "        1, 1, 0, 1, 1, 2, 2, 2, 2, 0, 1, 0, 1, 2, 2, 1, 2, 0, 1, 1, 1, 0,\n",
       "        1, 1, 0, 0, 0, 2, 2, 0, 0, 2, 1, 0, 0, 2, 1, 1, 1, 0, 1, 0, 1, 2,\n",
       "        0, 2, 2, 2, 2, 1, 1, 2, 2, 2, 1, 0, 1, 2, 1, 2, 1, 2, 1, 2, 2, 0,\n",
       "        2, 2, 0, 2, 1, 0, 2, 0, 2, 1, 0, 0, 0, 1, 1, 2, 1, 1, 0, 0, 1, 1,\n",
       "        2, 1, 1, 0, 2, 2, 1, 2, 0, 0, 0, 2, 1, 2, 1, 1, 2, 1, 0, 0, 0, 1,\n",
       "        1, 2, 1, 1, 2, 0, 2, 1, 2, 0, 1, 1, 0, 1, 2, 1, 0, 1, 1, 2, 1, 2,\n",
       "        1, 2, 2, 1, 1, 2, 2, 1, 2, 0, 2, 0, 0, 1, 0, 2, 2, 2, 2, 2, 1, 1,\n",
       "        1, 0, 0, 2, 0, 1, 1, 0, 1, 0, 0, 2, 0, 1, 1, 2, 0, 2, 0, 0, 2, 2,\n",
       "        0, 0, 2, 2, 1, 0, 0, 0, 1, 2, 2, 1, 0, 0, 0, 1, 0, 1, 2, 0, 1, 1,\n",
       "        0, 2, 2, 0, 2, 1, 2, 2, 2, 1]))"
      ]
     },
     "execution_count": 45,
     "metadata": {},
     "output_type": "execute_result"
    }
   ],
   "source": [
    "X, y = make_classification(n_samples= 1000, n_features=6, n_classes=3, random_state=42, n_informative=3)\n",
    "X,y"
   ]
  },
  {
   "cell_type": "code",
   "execution_count": 46,
   "id": "c1caa62d",
   "metadata": {},
   "outputs": [
    {
     "data": {
      "text/plain": [
       "((700, 6), (300, 6), (700,), (300,))"
      ]
     },
     "execution_count": 46,
     "metadata": {},
     "output_type": "execute_result"
    }
   ],
   "source": [
    "X_train, X_test, y_train, y_test = train_test_split(X, y, test_size=0.30, random_state=42)\n",
    "X_train.shape, X_test.shape, y_train.shape, y_test.shape"
   ]
  },
  {
   "cell_type": "code",
   "execution_count": 47,
   "id": "779a7fec",
   "metadata": {},
   "outputs": [
    {
     "data": {
      "text/plain": [
       "array([[-1.63506433,  0.50024047,  0.57796687, -2.81135109, -0.93227166,\n",
       "         2.01585107],\n",
       "       [-2.40737416, -0.05658849,  0.22930691,  0.17534959, -0.48056798,\n",
       "        -0.5449585 ],\n",
       "       [ 2.01490355, -0.67864306,  0.22986459, -2.74377831,  0.01578201,\n",
       "         2.44121985],\n",
       "       ...,\n",
       "       [-1.90573741, -2.21681884,  0.57327817, -2.69000223, -1.01532719,\n",
       "         1.91484825],\n",
       "       [ 0.91141304,  0.38831201, -0.21934886, -1.52943684, -1.20595095,\n",
       "         2.33074986],\n",
       "       [-1.09555267, -0.81301437,  0.85565742, -1.06506037,  1.39826584,\n",
       "        -0.90960332]])"
      ]
     },
     "execution_count": 47,
     "metadata": {},
     "output_type": "execute_result"
    }
   ],
   "source": [
    "X"
   ]
  },
  {
   "cell_type": "code",
   "execution_count": 48,
   "id": "f1589d17",
   "metadata": {},
   "outputs": [
    {
     "data": {
      "text/plain": [
       "array([2, 0, 2, 1, 1, 0, 2, 0, 1, 1, 1, 2, 2, 1, 1, 0, 0, 2, 2, 1, 1, 2,\n",
       "       1, 2, 0, 0, 0, 0, 1, 0, 0, 2, 2, 2, 2, 2, 0, 1, 2, 1, 2, 1, 2, 0,\n",
       "       1, 2, 0, 0, 2, 0, 0, 2, 0, 2, 0, 0, 0, 1, 0, 2, 1, 1, 2, 0, 1, 1,\n",
       "       0, 1, 1, 1, 0, 2, 1, 2, 2, 2, 1, 2, 0, 0, 2, 1, 2, 1, 0, 1, 0, 1,\n",
       "       2, 1, 2, 2, 0, 0, 1, 0, 1, 0, 0, 1, 1, 1, 1, 2, 2, 1, 1, 1, 2, 1,\n",
       "       0, 2, 0, 2, 2, 0, 0, 1, 1, 2, 0, 1, 2, 0, 0, 2, 2, 2, 0, 1, 0, 1,\n",
       "       0, 0, 2, 1, 0, 2, 0, 1, 2, 2, 2, 2, 0, 2, 0, 2, 1, 0, 2, 1, 2, 0,\n",
       "       0, 0, 1, 0, 1, 1, 2, 1, 0, 1, 0, 0, 2, 0, 0, 2, 2, 1, 1, 1, 1, 2,\n",
       "       1, 1, 0, 2, 1, 2, 0, 1, 2, 2, 1, 2, 0, 1, 0, 0, 1, 0, 1, 2, 1, 0,\n",
       "       0, 0, 2, 1, 0, 2, 1, 2, 2, 2, 2, 0, 0, 1, 0, 1, 1, 0, 1, 1, 0, 2,\n",
       "       2, 2, 2, 2, 2, 2, 2, 2, 1, 1, 0, 1, 2, 1, 0, 2, 2, 2, 0, 0, 1, 1,\n",
       "       0, 0, 0, 2, 0, 1, 2, 1, 1, 0, 0, 0, 0, 0, 0, 2, 2, 2, 2, 0, 0, 1,\n",
       "       1, 0, 2, 2, 1, 0, 2, 1, 2, 0, 1, 0, 2, 0, 2, 0, 0, 1, 1, 2, 1, 1,\n",
       "       1, 0, 1, 1, 0, 1, 2, 1, 2, 1, 0, 1, 2, 2, 2, 0, 2, 0, 1, 1, 0, 0,\n",
       "       0, 2, 1, 0, 1, 1, 1, 1, 2, 0, 2, 0, 2, 0, 1, 2, 0, 2, 2, 0, 2, 1,\n",
       "       2, 0, 1, 1, 2, 0, 1, 1, 0, 0, 0, 2, 0, 1, 1, 2, 2, 1, 0, 1, 1, 0,\n",
       "       1, 0, 2, 0, 2, 1, 0, 2, 0, 2, 2, 0, 1, 2, 2, 0, 0, 2, 1, 0, 1, 2,\n",
       "       2, 0, 1, 2, 0, 2, 2, 1, 2, 1, 0, 0, 0, 0, 0, 0, 1, 2, 1, 0, 2, 0,\n",
       "       2, 0, 2, 0, 2, 2, 0, 2, 2, 1, 2, 1, 1, 2, 0, 2, 0, 2, 0, 0, 2, 0,\n",
       "       1, 0, 2, 0, 2, 2, 2, 0, 2, 0, 0, 1, 1, 1, 2, 2, 1, 0, 2, 2, 0, 0,\n",
       "       0, 0, 1, 1, 2, 2, 0, 0, 0, 0, 0, 1, 0, 1, 0, 2, 0, 1, 0, 2, 1, 2,\n",
       "       2, 2, 2, 2, 2, 2, 0, 2, 2, 0, 0, 0, 2, 0, 0, 2, 1, 2, 2, 2, 0, 1,\n",
       "       0, 2, 1, 0, 2, 2, 0, 1, 1, 2, 2, 2, 2, 1, 1, 0, 0, 1, 1, 2, 2, 0,\n",
       "       1, 2, 0, 1, 1, 1, 0, 0, 0, 0, 0, 2, 1, 1, 2, 1, 0, 1, 2, 2, 1, 1,\n",
       "       1, 1, 2, 2, 0, 1, 1, 2, 1, 2, 1, 0, 0, 2, 0, 2, 0, 0, 0, 2, 1, 1,\n",
       "       0, 0, 2, 1, 0, 0, 1, 1, 1, 0, 2, 1, 1, 1, 0, 1, 0, 2, 1, 1, 0, 2,\n",
       "       1, 0, 2, 0, 0, 1, 1, 1, 1, 1, 2, 0, 2, 2, 2, 2, 1, 2, 1, 1, 0, 1,\n",
       "       0, 1, 1, 1, 0, 0, 0, 1, 0, 1, 0, 0, 0, 0, 1, 1, 0, 2, 2, 0, 2, 2,\n",
       "       0, 1, 1, 2, 1, 0, 0, 1, 2, 0, 1, 0, 0, 0, 0, 1, 2, 2, 0, 2, 1, 2,\n",
       "       2, 1, 0, 0, 0, 0, 1, 0, 2, 0, 1, 0, 2, 1, 1, 0, 2, 2, 2, 0, 0, 2,\n",
       "       2, 1, 2, 2, 1, 2, 1, 2, 1, 1, 2, 0, 1, 0, 0, 2, 2, 2, 1, 0, 0, 2,\n",
       "       2, 1, 2, 0, 1, 2, 1, 1, 2, 0, 2, 2, 1, 2, 0, 0, 0, 2, 0, 1, 1, 1,\n",
       "       2, 1, 1, 2, 0, 2, 1, 1, 1, 0, 0, 0, 2, 2, 1, 2, 1, 0, 1, 0, 2, 1,\n",
       "       2, 0, 1, 0, 0, 2, 1, 2, 0, 0, 1, 0, 2, 1, 0, 1, 0, 1, 1, 0, 1, 1,\n",
       "       1, 0, 1, 2, 2, 1, 2, 2, 0, 2, 0, 0, 1, 0, 1, 0, 0, 1, 2, 1, 1, 0,\n",
       "       2, 1, 0, 0, 1, 0, 0, 2, 2, 2, 1, 1, 2, 1, 1, 2, 1, 2, 1, 1, 2, 2,\n",
       "       1, 1, 0, 1, 1, 2, 2, 2, 2, 0, 1, 0, 1, 2, 2, 1, 2, 0, 1, 1, 1, 0,\n",
       "       1, 1, 0, 0, 0, 2, 2, 0, 0, 2, 1, 0, 0, 2, 1, 1, 1, 0, 1, 0, 1, 2,\n",
       "       0, 2, 2, 2, 2, 1, 1, 2, 2, 2, 1, 0, 1, 2, 1, 2, 1, 2, 1, 2, 2, 0,\n",
       "       2, 2, 0, 2, 1, 0, 2, 0, 2, 1, 0, 0, 0, 1, 1, 2, 1, 1, 0, 0, 1, 1,\n",
       "       2, 1, 1, 0, 2, 2, 1, 2, 0, 0, 0, 2, 1, 2, 1, 1, 2, 1, 0, 0, 0, 1,\n",
       "       1, 2, 1, 1, 2, 0, 2, 1, 2, 0, 1, 1, 0, 1, 2, 1, 0, 1, 1, 2, 1, 2,\n",
       "       1, 2, 2, 1, 1, 2, 2, 1, 2, 0, 2, 0, 0, 1, 0, 2, 2, 2, 2, 2, 1, 1,\n",
       "       1, 0, 0, 2, 0, 1, 1, 0, 1, 0, 0, 2, 0, 1, 1, 2, 0, 2, 0, 0, 2, 2,\n",
       "       0, 0, 2, 2, 1, 0, 0, 0, 1, 2, 2, 1, 0, 0, 0, 1, 0, 1, 2, 0, 1, 1,\n",
       "       0, 2, 2, 0, 2, 1, 2, 2, 2, 1])"
      ]
     },
     "execution_count": 48,
     "metadata": {},
     "output_type": "execute_result"
    }
   ],
   "source": [
    "y"
   ]
  },
  {
   "cell_type": "code",
   "execution_count": 49,
   "id": "ae4d5642",
   "metadata": {},
   "outputs": [],
   "source": [
    "from sklearn.neighbors import KNeighborsClassifier"
   ]
  },
  {
   "cell_type": "code",
   "execution_count": 50,
   "id": "c1dfa1e8",
   "metadata": {},
   "outputs": [
    {
     "data": {
      "text/html": [
       "<style>#sk-container-id-5 {color: black;}#sk-container-id-5 pre{padding: 0;}#sk-container-id-5 div.sk-toggleable {background-color: white;}#sk-container-id-5 label.sk-toggleable__label {cursor: pointer;display: block;width: 100%;margin-bottom: 0;padding: 0.3em;box-sizing: border-box;text-align: center;}#sk-container-id-5 label.sk-toggleable__label-arrow:before {content: \"▸\";float: left;margin-right: 0.25em;color: #696969;}#sk-container-id-5 label.sk-toggleable__label-arrow:hover:before {color: black;}#sk-container-id-5 div.sk-estimator:hover label.sk-toggleable__label-arrow:before {color: black;}#sk-container-id-5 div.sk-toggleable__content {max-height: 0;max-width: 0;overflow: hidden;text-align: left;background-color: #f0f8ff;}#sk-container-id-5 div.sk-toggleable__content pre {margin: 0.2em;color: black;border-radius: 0.25em;background-color: #f0f8ff;}#sk-container-id-5 input.sk-toggleable__control:checked~div.sk-toggleable__content {max-height: 200px;max-width: 100%;overflow: auto;}#sk-container-id-5 input.sk-toggleable__control:checked~label.sk-toggleable__label-arrow:before {content: \"▾\";}#sk-container-id-5 div.sk-estimator input.sk-toggleable__control:checked~label.sk-toggleable__label {background-color: #d4ebff;}#sk-container-id-5 div.sk-label input.sk-toggleable__control:checked~label.sk-toggleable__label {background-color: #d4ebff;}#sk-container-id-5 input.sk-hidden--visually {border: 0;clip: rect(1px 1px 1px 1px);clip: rect(1px, 1px, 1px, 1px);height: 1px;margin: -1px;overflow: hidden;padding: 0;position: absolute;width: 1px;}#sk-container-id-5 div.sk-estimator {font-family: monospace;background-color: #f0f8ff;border: 1px dotted black;border-radius: 0.25em;box-sizing: border-box;margin-bottom: 0.5em;}#sk-container-id-5 div.sk-estimator:hover {background-color: #d4ebff;}#sk-container-id-5 div.sk-parallel-item::after {content: \"\";width: 100%;border-bottom: 1px solid gray;flex-grow: 1;}#sk-container-id-5 div.sk-label:hover label.sk-toggleable__label {background-color: #d4ebff;}#sk-container-id-5 div.sk-serial::before {content: \"\";position: absolute;border-left: 1px solid gray;box-sizing: border-box;top: 0;bottom: 0;left: 50%;z-index: 0;}#sk-container-id-5 div.sk-serial {display: flex;flex-direction: column;align-items: center;background-color: white;padding-right: 0.2em;padding-left: 0.2em;position: relative;}#sk-container-id-5 div.sk-item {position: relative;z-index: 1;}#sk-container-id-5 div.sk-parallel {display: flex;align-items: stretch;justify-content: center;background-color: white;position: relative;}#sk-container-id-5 div.sk-item::before, #sk-container-id-5 div.sk-parallel-item::before {content: \"\";position: absolute;border-left: 1px solid gray;box-sizing: border-box;top: 0;bottom: 0;left: 50%;z-index: -1;}#sk-container-id-5 div.sk-parallel-item {display: flex;flex-direction: column;z-index: 1;position: relative;background-color: white;}#sk-container-id-5 div.sk-parallel-item:first-child::after {align-self: flex-end;width: 50%;}#sk-container-id-5 div.sk-parallel-item:last-child::after {align-self: flex-start;width: 50%;}#sk-container-id-5 div.sk-parallel-item:only-child::after {width: 0;}#sk-container-id-5 div.sk-dashed-wrapped {border: 1px dashed gray;margin: 0 0.4em 0.5em 0.4em;box-sizing: border-box;padding-bottom: 0.4em;background-color: white;}#sk-container-id-5 div.sk-label label {font-family: monospace;font-weight: bold;display: inline-block;line-height: 1.2em;}#sk-container-id-5 div.sk-label-container {text-align: center;}#sk-container-id-5 div.sk-container {/* jupyter's `normalize.less` sets `[hidden] { display: none; }` but bootstrap.min.css set `[hidden] { display: none !important; }` so we also need the `!important` here to be able to override the default hidden behavior on the sphinx rendered scikit-learn.org. See: https://github.com/scikit-learn/scikit-learn/issues/21755 */display: inline-block !important;position: relative;}#sk-container-id-5 div.sk-text-repr-fallback {display: none;}</style><div id=\"sk-container-id-5\" class=\"sk-top-container\"><div class=\"sk-text-repr-fallback\"><pre>KNeighborsClassifier()</pre><b>In a Jupyter environment, please rerun this cell to show the HTML representation or trust the notebook. <br />On GitHub, the HTML representation is unable to render, please try loading this page with nbviewer.org.</b></div><div class=\"sk-container\" hidden><div class=\"sk-item\"><div class=\"sk-estimator sk-toggleable\"><input class=\"sk-toggleable__control sk-hidden--visually\" id=\"sk-estimator-id-5\" type=\"checkbox\" checked><label for=\"sk-estimator-id-5\" class=\"sk-toggleable__label sk-toggleable__label-arrow\">KNeighborsClassifier</label><div class=\"sk-toggleable__content\"><pre>KNeighborsClassifier()</pre></div></div></div></div></div>"
      ],
      "text/plain": [
       "KNeighborsClassifier()"
      ]
     },
     "execution_count": 50,
     "metadata": {},
     "output_type": "execute_result"
    }
   ],
   "source": [
    "classifier = KNeighborsClassifier()\n",
    "classifier"
   ]
  },
  {
   "cell_type": "code",
   "execution_count": 51,
   "id": "5dd72233",
   "metadata": {},
   "outputs": [],
   "source": [
    "classifier.fit(X_train, y_train)\n",
    "y_pre = classifier.predict(X_test)"
   ]
  },
  {
   "cell_type": "code",
   "execution_count": 52,
   "id": "474f1c2e",
   "metadata": {},
   "outputs": [
    {
     "data": {
      "text/plain": [
       "array([1, 0, 0, 2, 2, 0, 1, 0, 2, 0, 1, 1, 0, 0, 0, 0, 0, 0, 0, 0, 1, 1,\n",
       "       2, 1, 0, 2, 1, 2, 1, 0, 0, 1, 0, 0, 1, 0, 2, 2, 0, 2, 0, 1, 1, 0,\n",
       "       0, 0, 1, 1, 0, 2, 0, 1, 0, 1, 2, 0, 1, 1, 1, 0, 0, 0, 0, 0, 0, 2,\n",
       "       2, 2, 0, 0, 1, 2, 2, 1, 2, 1, 1, 1, 1, 0, 0, 0, 0, 1, 2, 1, 2, 0,\n",
       "       1, 0, 2, 1, 1, 0, 2, 2, 0, 1, 0, 0, 2, 0, 0, 0, 2, 1, 0, 1, 0, 1,\n",
       "       1, 2, 2, 1, 0, 2, 1, 2, 1, 2, 1, 0, 0, 1, 2, 0, 0, 2, 1, 2, 1, 0,\n",
       "       0, 1, 1, 0, 0, 0, 0, 1, 1, 1, 0, 1, 2, 2, 1, 0, 0, 0, 0, 1, 2, 1,\n",
       "       2, 1, 2, 0, 1, 0, 0, 1, 0, 1, 0, 1, 2, 1, 1, 1, 1, 2, 0, 0, 1, 0,\n",
       "       0, 2, 1, 2, 2, 2, 2, 1, 2, 2, 0, 2, 2, 0, 0, 1, 2, 0, 1, 1, 0, 2,\n",
       "       0, 0, 0, 2, 2, 1, 2, 1, 0, 0, 2, 1, 1, 2, 2, 0, 2, 0, 1, 1, 1, 0,\n",
       "       1, 0, 0, 1, 0, 2, 1, 1, 1, 1, 1, 2, 2, 0, 2, 2, 0, 2, 1, 1, 1, 1,\n",
       "       0, 2, 0, 1, 1, 2, 1, 0, 2, 2, 1, 1, 2, 2, 1, 2, 0, 0, 2, 2, 0, 2,\n",
       "       1, 0, 2, 2, 1, 2, 0, 1, 0, 1, 0, 1, 1, 1, 1, 1, 2, 2, 0, 0, 0, 2,\n",
       "       2, 0, 2, 0, 1, 1, 1, 2, 2, 2, 1, 0, 0, 0])"
      ]
     },
     "execution_count": 52,
     "metadata": {},
     "output_type": "execute_result"
    }
   ],
   "source": [
    "y_pre"
   ]
  },
  {
   "cell_type": "code",
   "execution_count": 53,
   "id": "99c5e074",
   "metadata": {},
   "outputs": [],
   "source": [
    "from sklearn.metrics import classification_report, confusion_matrix, accuracy_score"
   ]
  },
  {
   "cell_type": "code",
   "execution_count": 54,
   "id": "898321bd",
   "metadata": {},
   "outputs": [
    {
     "data": {
      "text/plain": [
       "0.8566666666666667"
      ]
     },
     "execution_count": 54,
     "metadata": {},
     "output_type": "execute_result"
    }
   ],
   "source": [
    "accuracy_score(y_test, y_pre)"
   ]
  },
  {
   "cell_type": "code",
   "execution_count": 55,
   "id": "bb149577",
   "metadata": {},
   "outputs": [
    {
     "name": "stdout",
     "output_type": "stream",
     "text": [
      "              precision    recall  f1-score   support\n",
      "\n",
      "           0       0.82      0.88      0.85       104\n",
      "           1       0.85      0.86      0.85       102\n",
      "           2       0.92      0.82      0.87        94\n",
      "\n",
      "    accuracy                           0.86       300\n",
      "   macro avg       0.86      0.86      0.86       300\n",
      "weighted avg       0.86      0.86      0.86       300\n",
      "\n"
     ]
    }
   ],
   "source": [
    "print(classification_report(y_test, y_pre))"
   ]
  },
  {
   "cell_type": "code",
   "execution_count": 56,
   "id": "ba2263c6",
   "metadata": {},
   "outputs": [
    {
     "data": {
      "text/plain": [
       "array([[92,  8,  4],\n",
       "       [11, 88,  3],\n",
       "       [ 9,  8, 77]], dtype=int64)"
      ]
     },
     "execution_count": 56,
     "metadata": {},
     "output_type": "execute_result"
    }
   ],
   "source": [
    "confusion_matrix(y_test, y_pre)"
   ]
  },
  {
   "cell_type": "code",
   "execution_count": null,
   "id": "eac746f2",
   "metadata": {},
   "outputs": [],
   "source": []
  },
  {
   "cell_type": "code",
   "execution_count": 57,
   "id": "f0e11f04",
   "metadata": {},
   "outputs": [
    {
     "name": "stdout",
     "output_type": "stream",
     "text": [
      "[2, 3, 4, 5, 6, 7, 8, 9, 10, 11, 12, 13, 14, 15, 16, 17, 18, 19, 20]\n"
     ]
    }
   ],
   "source": [
    "test = []\n",
    "train = []\n",
    "k = []\n",
    "\n",
    "for i in range(2,21):\n",
    "    classifier = KNeighborsClassifier(n_neighbors = i)\n",
    "    k.append(i)\n",
    "    \n",
    "    classifier.fit(X_train,y_train)\n",
    "    \n",
    "    y_pre_test = classifier.predict(X_test)\n",
    "    y_pre_train = classifier.predict(X_train)\n",
    "    \n",
    "    test.append(accuracy_score(y_test,y_pre_test))\n",
    "    train.append(accuracy_score(y_train,y_pre_train))\n",
    "print(k)"
   ]
  },
  {
   "cell_type": "code",
   "execution_count": 58,
   "id": "77be93c0",
   "metadata": {},
   "outputs": [
    {
     "data": {
      "text/plain": [
       "[0.9214285714285714,\n",
       " 0.9057142857142857,\n",
       " 0.9071428571428571,\n",
       " 0.9042857142857142,\n",
       " 0.8942857142857142,\n",
       " 0.9014285714285715,\n",
       " 0.8857142857142857,\n",
       " 0.8871428571428571,\n",
       " 0.8742857142857143,\n",
       " 0.8771428571428571,\n",
       " 0.88,\n",
       " 0.8728571428571429,\n",
       " 0.8757142857142857,\n",
       " 0.8742857142857143,\n",
       " 0.8742857142857143,\n",
       " 0.8714285714285714,\n",
       " 0.8685714285714285,\n",
       " 0.8685714285714285,\n",
       " 0.8671428571428571]"
      ]
     },
     "execution_count": 58,
     "metadata": {},
     "output_type": "execute_result"
    }
   ],
   "source": [
    "train"
   ]
  },
  {
   "cell_type": "code",
   "execution_count": 59,
   "id": "4c9e08ba",
   "metadata": {},
   "outputs": [
    {
     "data": {
      "text/plain": [
       "[0.84,\n",
       " 0.87,\n",
       " 0.87,\n",
       " 0.8566666666666667,\n",
       " 0.87,\n",
       " 0.8733333333333333,\n",
       " 0.8866666666666667,\n",
       " 0.8833333333333333,\n",
       " 0.89,\n",
       " 0.88,\n",
       " 0.8666666666666667,\n",
       " 0.8766666666666667,\n",
       " 0.8633333333333333,\n",
       " 0.88,\n",
       " 0.8766666666666667,\n",
       " 0.8833333333333333,\n",
       " 0.8766666666666667,\n",
       " 0.8766666666666667,\n",
       " 0.8766666666666667]"
      ]
     },
     "execution_count": 59,
     "metadata": {},
     "output_type": "execute_result"
    }
   ],
   "source": [
    "test"
   ]
  },
  {
   "cell_type": "code",
   "execution_count": 60,
   "id": "3737719f",
   "metadata": {},
   "outputs": [],
   "source": [
    "import matplotlib.pyplot as plt"
   ]
  },
  {
   "cell_type": "code",
   "execution_count": 89,
   "id": "0df4253a",
   "metadata": {},
   "outputs": [
    {
     "data": {
      "image/png": "[encoded data removed]",
      "text/plain": [
       "<Figure size 1000x800 with 1 Axes>"
      ]
     },
     "metadata": {},
     "output_type": "display_data"
    }
   ],
   "source": [
    "plt.figure(figsize=(10,8))\n",
    "sns.stripplot(x=k,y=test,color=\"r\")\n",
    "sns.stripplot(x=k,y=train,color=\"b\")\n",
    "plt.show()"
   ]
  },
  {
   "cell_type": "code",
   "execution_count": 66,
   "id": "7173a547",
   "metadata": {},
   "outputs": [],
   "source": [
    "## to find the best value of k we can do this"
   ]
  },
  {
   "cell_type": "code",
   "execution_count": null,
   "id": "7db31ef9",
   "metadata": {},
   "outputs": [],
   "source": []
  }
 ],
 "metadata": {
  "kernelspec": {
   "display_name": "Python 3 (ipykernel)",
   "language": "python",
   "name": "python3"
  },
  "language_info": {
   "codemirror_mode": {
    "name": "ipython",
    "version": 3
   },
   "file_extension": ".py",
   "mimetype": "text/x-python",
   "name": "python",
   "nbconvert_exporter": "python",
   "pygments_lexer": "ipython3",
   "version": "3.9.7"
  }
 },
 "nbformat": 4,
 "nbformat_minor": 5
}
